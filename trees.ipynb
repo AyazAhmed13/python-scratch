{
  "nbformat": 4,
  "nbformat_minor": 0,
  "metadata": {
    "colab": {
      "provenance": [],
      "authorship_tag": "ABX9TyN+R0nTnjH3Wc1SUTOXlKcC"
    },
    "kernelspec": {
      "name": "python3",
      "display_name": "Python 3"
    },
    "language_info": {
      "name": "python"
    }
  },
  "cells": [
    {
      "cell_type": "code",
      "execution_count": null,
      "metadata": {
        "id": "FhNb3lkArFfW",
        "colab": {
          "base_uri": "https://localhost:8080/"
        },
        "outputId": "0778c6b3-4e8d-4c06-cdaf-40fccff0a8be"
      },
      "outputs": [
        {
          "output_type": "stream",
          "name": "stdout",
          "text": [
            "10 14 19 27 31 35 42 inorder\n",
            "10 19 14 31 42 35 27 postorder\n",
            "27 14 10 19 35 31 42 preorder\n"
          ]
        }
      ],
      "source": [
        "class tree:\n",
        "  def __init__(self,data):\n",
        "    self.data=data\n",
        "    self.left=None\n",
        "    self.right=None\n",
        "  def insert(self,data):\n",
        "    if self.data:\n",
        "      if data<self.data:\n",
        "        if self.left is None:\n",
        "          self.left=tree(data)\n",
        "        else:\n",
        "          self.left.insert(data)\n",
        "      elif data>self.data:\n",
        "        if self.right is None:\n",
        "          self.right=tree(data)\n",
        "        else:\n",
        "          self.right.insert(data)\n",
        "      else:\n",
        "        self.data=data\n",
        "\n",
        "def preorder(root):\n",
        "  if root:\n",
        "    print(root.data,end=\" \")\n",
        "    preorder(root.left)\n",
        "    preorder(root.right)\n",
        "def postorder(root):\n",
        "  if root:\n",
        "    postorder(root.left)\n",
        "    postorder(root.right)\n",
        "    print(root.data,end=\" \")\n",
        "def inorder(root):\n",
        "  if root:\n",
        "    inorder(root.left)\n",
        "    print(root.data,end=\" \")\n",
        "    inorder(root.right)\n",
        "\n",
        "b=tree(27)\n",
        "b.insert(14)\n",
        "b.insert(35)\n",
        "b.insert(10)\n",
        "b.insert(19)\n",
        "b.insert(31)\n",
        "b.insert(42)\n",
        "inorder(b)\n",
        "print(\"inorder\")\n",
        "postorder(b)\n",
        "print(\"postorder\")\n",
        "preorder(b)\n",
        "print(\"preorder\")\n",
        "\n",
        "\n"
      ]
    },
    {
      "cell_type": "code",
      "source": [],
      "metadata": {
        "id": "Fl6BUWo5EtcM"
      },
      "execution_count": null,
      "outputs": []
    }
  ]
}
{
  "nbformat": 4,
  "nbformat_minor": 0,
  "metadata": {
    "colab": {
      "provenance": [],
      "authorship_tag": "ABX9TyMxNvB6fdrRsYUxI+0xqoqr"
    },
    "kernelspec": {
      "name": "python3",
      "display_name": "Python 3"
    },
    "language_info": {
      "name": "python"
    }
  },
  "cells": [
    {
      "cell_type": "code",
      "execution_count": null,
      "metadata": {
        "colab": {
          "base_uri": "https://localhost:8080/"
        },
        "id": "Kh15Q1G1SnBg",
        "outputId": "ee2523b9-a75d-479b-b385-93f003c8184a"
      },
      "outputs": [
        {
          "output_type": "stream",
          "name": "stdout",
          "text": [
            "How many values do you want to enter:7\n",
            "enter values:5,2,3,4,6,5,-2\n",
            "[5, 2, 3, 4, 6, 5, -2]\n",
            "-2 6 2 5 3 5 4\n"
          ]
        }
      ],
      "source": [
        "#first element smallest and second element largest\n",
        "n=int(input(\"How many values do you want to enter:\"))\n",
        "l=list(map(int,input(\"enter values:\").split(\",\"))) [:n]\n",
        "print(l)#[5,2,3,6,5-2]\n",
        "l.sort()#[-2,2,3,4,5,5,6]\n",
        "r=[]\n",
        "for p in range(0,(len(l)//2)):\n",
        "  r.append(l[p])\n",
        "  r.append(l[-(p+1)])\n",
        "if(len(l)%2!=0):\n",
        "  r.append(l[len(l)//2])\n",
        "print(*r)"
      ]
    },
    {
      "cell_type": "code",
      "source": [
        "#arrange the list in decending order in the form of string\n",
        "l=list(map(int,input(\"enter values:\").split(\",\"))) [:n]\n",
        "print(l)\n",
        "s=list(map(str,l))\n",
        "r=''.join(s)\n",
        "print(r)\n",
        "n=int(r)\n",
        "l=list(map(int,str(n)))\n",
        "l.sort(reverse=True)\n",
        "d=list(map(str,l))\n",
        "print(''.join(d))"
      ],
      "metadata": {
        "colab": {
          "base_uri": "https://localhost:8080/"
        },
        "id": "agala_UdTQBf",
        "outputId": "162feb67-251a-4098-94ff-13bb5b48e712"
      },
      "execution_count": null,
      "outputs": [
        {
          "output_type": "stream",
          "name": "stdout",
          "text": [
            "enter values:34,79,58,64\n",
            "[34, 79, 58, 64]\n",
            "34795864\n",
            "98765443\n"
          ]
        }
      ]
    },
    {
      "cell_type": "code",
      "source": [
        "#identifying duplicate values\n",
        "l=list(map(int,input(\"enter values:\").split(\",\")))\n",
        "print(l)\n",
        "ul=[]\n",
        "dl=[]\n",
        "for p in l:\n",
        "  if(p not in ul):\n",
        "    ul.append(p)\n",
        "  else:\n",
        "     if(p not in dl):\n",
        "      dl.append(p)\n",
        "print(\"unique\",ul)\n",
        "print(\"duplicate\",dl)\n"
      ],
      "metadata": {
        "colab": {
          "base_uri": "https://localhost:8080/"
        },
        "id": "jbuhl1i0eelg",
        "outputId": "cbf1c3fa-b953-4acd-ec8c-666f11e7c18f"
      },
      "execution_count": null,
      "outputs": [
        {
          "output_type": "stream",
          "name": "stdout",
          "text": [
            "enter values:1,2,3,4,1,2,5,6,1,2,6\n",
            "[1, 2, 3, 4, 1, 2, 5, 6, 1, 2, 6]\n",
            "unique [1, 2, 3, 4, 5, 6]\n",
            "duplicate [1, 2, 6]\n"
          ]
        }
      ]
    },
    {
      "cell_type": "code",
      "source": [
        "#add the numbers in the given interval\n",
        "f=int(input(\"enter first number:\"))\n",
        "l=int(input(\"enter last number\"))\n",
        "s1=0\n",
        "for p in range(f,l+1):\n",
        "  n=p\n",
        "  s=0\n",
        "  while(n!=0):#29\n",
        "    r=n%10#9\n",
        "    s=s+r#9+0\n",
        "    n=n//10#2\n",
        "  s1=s1+s\n",
        "print(\"sum:\",s1)"
      ],
      "metadata": {
        "colab": {
          "base_uri": "https://localhost:8080/"
        },
        "id": "JfSjU_71gN_w",
        "outputId": "0d85dbe2-52cc-4435-f54a-f05a0204f14f"
      },
      "execution_count": null,
      "outputs": [
        {
          "output_type": "stream",
          "name": "stdout",
          "text": [
            "enter first number:1\n",
            "enter last number5\n",
            "sum: 15\n"
          ]
        }
      ]
    },
    {
      "cell_type": "code",
      "source": [
        "#finding the runner up and highest score\n",
        "l=list(map(int,input(\"enter values:\").split(\",\"))) [:n]\n",
        "print(l)\n",
        "l.sort()\n",
        "print(l)\n",
        "print(\"highest score:\",l[-1])\n",
        "c=l.count(max(l))\n",
        "print(\"runner up score:\",l[-(c+1)])"
      ],
      "metadata": {
        "colab": {
          "base_uri": "https://localhost:8080/"
        },
        "id": "e3xILHALls5Z",
        "outputId": "d5404cd8-6318-4424-e279-6410705f0f86"
      },
      "execution_count": null,
      "outputs": [
        {
          "output_type": "stream",
          "name": "stdout",
          "text": [
            "enter values:2,3,6,6,5\n",
            "[2, 3, 6, 6, 5]\n",
            "[2, 3, 5, 6, 6]\n",
            "highest score: 6\n",
            "runner up score: 5\n"
          ]
        }
      ]
    },
    {
      "cell_type": "code",
      "source": [
        "l=list(map(int,input(\"enter values:\").split(\",\")))\n",
        "print(l)\n",
        "l.sort()\n",
        "print(l)\n",
        "print(\"min score\",l[0])\n",
        "c=l.count(min(l))\n",
        "print(\"sec min score\",l[c])"
      ],
      "metadata": {
        "colab": {
          "base_uri": "https://localhost:8080/"
        },
        "id": "N4qcMJpnoJl5",
        "outputId": "c2b7fa5e-ac48-418f-c946-50f673fda65d"
      },
      "execution_count": null,
      "outputs": [
        {
          "output_type": "stream",
          "name": "stdout",
          "text": [
            "enter values:2,6,2,8,2\n",
            "[2, 6, 2, 8, 2]\n",
            "[2, 2, 2, 6, 8]\n",
            "min score 2\n",
            "sec min score 6\n"
          ]
        }
      ]
    },
    {
      "cell_type": "code",
      "source": [
        "l=[p*p for p in range (1,51) if(p%5==0)]\n",
        "print(l)"
      ],
      "metadata": {
        "colab": {
          "base_uri": "https://localhost:8080/"
        },
        "id": "9qIhyb_0rk72",
        "outputId": "620c90a8-fef0-4084-ece1-21c85f4d5d7e"
      },
      "execution_count": null,
      "outputs": [
        {
          "output_type": "stream",
          "name": "stdout",
          "text": [
            "[25, 100, 225, 400, 625, 900, 1225, 1600, 2025, 2500]\n"
          ]
        }
      ]
    },
    {
      "cell_type": "code",
      "source": [
        "#2-20 even\n",
        "l=[p for p in range(1,21) if(p%2==0)]\n",
        "l"
      ],
      "metadata": {
        "colab": {
          "base_uri": "https://localhost:8080/"
        },
        "id": "nycbRNC5uFsM",
        "outputId": "1df62235-db51-4fea-849b-635f88a8d037"
      },
      "execution_count": null,
      "outputs": [
        {
          "output_type": "execute_result",
          "data": {
            "text/plain": [
              "[2, 4, 6, 8, 10, 12, 14, 16, 18, 20]"
            ]
          },
          "metadata": {},
          "execution_count": 29
        }
      ]
    },
    {
      "cell_type": "code",
      "source": [
        "#2-21 odd squares\n",
        "l=[p*p for p in range(1,20) if(p%2!=0)]\n",
        "l"
      ],
      "metadata": {
        "colab": {
          "base_uri": "https://localhost:8080/"
        },
        "id": "SLf8Y9BTvFt8",
        "outputId": "8de37269-9558-4d72-b691-5acee0db2d36"
      },
      "execution_count": null,
      "outputs": [
        {
          "output_type": "execute_result",
          "data": {
            "text/plain": [
              "[1, 9, 25, 49, 81, 121, 169, 225, 289, 361]"
            ]
          },
          "metadata": {},
          "execution_count": 30
        }
      ]
    },
    {
      "cell_type": "code",
      "source": [
        "#\n",
        "n=int(input(\"enter n:\"))\n",
        "l=list(map(int,str(n)))\n",
        "print(l)\n",
        "l.sort()\n",
        "if(l[0]==0):\n",
        "  l[0],l[1]=l[1],l[0]\n",
        "print(l)\n",
        "s=list(map(str,l))\n",
        "print(\"\".join(s))"
      ],
      "metadata": {
        "id": "J4ZtgkTzwKyz",
        "colab": {
          "base_uri": "https://localhost:8080/"
        },
        "outputId": "c6657fb5-ba57-4e19-9c21-ca40787ea256"
      },
      "execution_count": null,
      "outputs": [
        {
          "output_type": "stream",
          "name": "stdout",
          "text": [
            "enter n:210546\n",
            "[2, 1, 0, 5, 4, 6]\n",
            "[1, 0, 2, 4, 5, 6]\n",
            "102456\n"
          ]
        }
      ]
    },
    {
      "cell_type": "code",
      "source": [
        "#squares of odd num\n",
        "n=int(input(\"enter n:\"))\n",
        "l=list(map(int,str(n)))\n",
        "print(l)\n",
        "r=[p*p for p in l if (p%2!=0)]\n",
        "s=list(map(str,r))\n",
        "print(\"\".join(s))"
      ],
      "metadata": {
        "colab": {
          "base_uri": "https://localhost:8080/"
        },
        "id": "fFF6YfgxpN86",
        "outputId": "94e37469-13e3-4662-84da-e8e7b3690e23"
      },
      "execution_count": null,
      "outputs": [
        {
          "output_type": "stream",
          "name": "stdout",
          "text": [
            "enter n:12345\n",
            "[1, 2, 3, 4, 5]\n",
            "1925\n"
          ]
        }
      ]
    },
    {
      "cell_type": "code",
      "source": [
        "#arranging first odd num then even num\n",
        "n=int(input(\"enter n:\"))\n",
        "l=list(map(int,str(n)))\n",
        "ol=[]\n",
        "el=[]\n",
        "r=[el.append(p) if (p%2==0) else ol.append(p) for p in l]\n",
        "ol.sort()\n",
        "el=el[::-1]\n",
        "v=ol+el\n",
        "s=list(map(str,v))\n",
        "print(''.join(s))"
      ],
      "metadata": {
        "colab": {
          "base_uri": "https://localhost:8080/"
        },
        "id": "GJOWoa-KqD8K",
        "outputId": "af4e5072-7100-47c8-944f-ba2bbfee3d64"
      },
      "execution_count": null,
      "outputs": [
        {
          "output_type": "stream",
          "name": "stdout",
          "text": [
            "enter n:2143658790\n",
            "1357908642\n"
          ]
        }
      ]
    },
    {
      "cell_type": "code",
      "source": [
        "#rotating the values in the list\n",
        "n=int(input(\"enter n:\"))\n",
        "l=list(map(int,input(\"enter values:\").split(\",\")))[:n]\n",
        "print(l)\n",
        "r=int(input(\"enter rotation:\"))\n",
        "d=l[-r:]+l[:-r]\n",
        "print(*d)"
      ],
      "metadata": {
        "colab": {
          "base_uri": "https://localhost:8080/"
        },
        "id": "Tk0qtt6qrJGz",
        "outputId": "a6a8e624-4cbe-4ac0-8513-68912a3e5eae"
      },
      "execution_count": null,
      "outputs": [
        {
          "output_type": "stream",
          "name": "stdout",
          "text": [
            "enter n:5\n",
            "enter values:1,2,3,4,5\n",
            "[1, 2, 3, 4, 5]\n",
            "enter rotation:2\n",
            "4 5 1 2 3\n"
          ]
        }
      ]
    },
    {
      "cell_type": "code",
      "source": [
        "#basic operations\n",
        "l=[10,12,45,4,56,7]\n",
        "i=0\n",
        "while(i<len(l)):\n",
        "  print(l[i],end=\"\")\n",
        "  i=i+1\n",
        "print()\n",
        "print(\"for loop\")\n",
        "for p in l:\n",
        "  print(p,end=\" \")\n",
        "print()\n",
        "print(\"for loop with range\")\n",
        "for p in range(0,len(l)):\n",
        "  print(p,l[p])\n",
        "print(\"max\",max(l))\n",
        "print(\"min\",min(l))\n",
        "print(\"sum\",sum(l))\n",
        "print(\"average\",sum(l)//len(l))"
      ],
      "metadata": {
        "colab": {
          "base_uri": "https://localhost:8080/"
        },
        "id": "md7pl2hpsDxJ",
        "outputId": "1155cb91-70aa-432a-a091-94999b5a0e9e"
      },
      "execution_count": null,
      "outputs": [
        {
          "output_type": "stream",
          "name": "stdout",
          "text": [
            "1012454567\n",
            "for loop\n",
            "10 12 45 4 56 7 \n",
            "for loop with range\n",
            "0 10\n",
            "1 12\n",
            "2 45\n",
            "3 4\n",
            "4 56\n",
            "5 7\n",
            "max 56\n",
            "min 4\n",
            "sum 134\n",
            "average 22\n"
          ]
        }
      ]
    },
    {
      "cell_type": "code",
      "source": [],
      "metadata": {
        "id": "PWr-JQfOtlWD"
      },
      "execution_count": null,
      "outputs": []
    }
  ]
}
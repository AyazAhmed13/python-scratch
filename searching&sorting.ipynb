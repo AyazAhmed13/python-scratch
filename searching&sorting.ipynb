{
  "nbformat": 4,
  "nbformat_minor": 0,
  "metadata": {
    "colab": {
      "provenance": [],
      "authorship_tag": "ABX9TyNDagJMIDsSSZFf/vI5CGQJ"
    },
    "kernelspec": {
      "name": "python3",
      "display_name": "Python 3"
    },
    "language_info": {
      "name": "python"
    }
  },
  "cells": [
    {
      "cell_type": "code",
      "execution_count": null,
      "metadata": {
        "colab": {
          "base_uri": "https://localhost:8080/"
        },
        "id": "nPj5CPKCTAaF",
        "outputId": "be6324b4-c6ed-446f-db78-f66e02f3407c"
      },
      "outputs": [
        {
          "output_type": "stream",
          "name": "stdout",
          "text": [
            "enter values3,1,4,87,5,78\n",
            "[3, 1, 4, 87, 5, 78]\n",
            "enter the key ele:4\n",
            "ele found at 2 index position\n"
          ]
        }
      ],
      "source": [
        "#linear search\n",
        "def linear_search(l,key):\n",
        "  for p in range(len(l)):\n",
        "    if(l[p]==key):\n",
        "      return p\n",
        "  return -1\n",
        "l=list(map(int,input(\"enter values\").split(\",\")))\n",
        "print(l)\n",
        "key=int(input(\"enter the key ele:\"))\n",
        "s=linear_search(l,key)\n",
        "if(s==-1):\n",
        "  print(\"ele not found\")\n",
        "else:\n",
        "  print(\"ele found at\",s,\"index position\")\n"
      ]
    },
    {
      "cell_type": "code",
      "source": [
        "#binary search\n",
        "def bs(l,key,low,high):\n",
        "  while(low<=high):\n",
        "    m=(low+high)//2\n",
        "    if(l[m]==key):\n",
        "      return m\n",
        "    elif(l[m]<key):\n",
        "      low=m+1\n",
        "    else:\n",
        "      high=m-1\n",
        "  return -1\n",
        "\n",
        "l=list(map(int,input(\"enter values\").split(\",\")))\n",
        "l.sort()\n",
        "print(l)\n",
        "key=int(input(\"enter the key ele:\"))\n",
        "low=0\n",
        "high=len(l)-1\n",
        "s=bs(l,key,low,high)\n",
        "if(s==-1):\n",
        "  print(\"ele not found\")\n",
        "else:\n",
        "  print(\"ele found at\",s,\"index position\")"
      ],
      "metadata": {
        "colab": {
          "base_uri": "https://localhost:8080/"
        },
        "id": "FmeZuwdkYwB4",
        "outputId": "a087990c-e59c-4e3b-876e-ca2a2dfea70f"
      },
      "execution_count": null,
      "outputs": [
        {
          "output_type": "stream",
          "name": "stdout",
          "text": [
            "enter values12,56,42,698,254,466,2,9,1003\n",
            "[2, 9, 12, 42, 56, 254, 466, 698, 1003]\n",
            "enter the key ele:254\n",
            "ele found at 5 index position\n"
          ]
        }
      ]
    },
    {
      "cell_type": "code",
      "source": [
        "#bubble sort ascending\n",
        "def bubble_sort(l):\n",
        "  count=0\n",
        "  for p in range(len(l)-1):\n",
        "    for q in range(len(l)-1):\n",
        "      if(l[q]>l[q+1]):\n",
        "        l[q],l[q+1]=l[q+1],l[q]\n",
        "    print(l)\n",
        "    count=count+1\n",
        "    print(count)\n",
        "  return l\n",
        "l=list(map(int,input(\"enter values\").split(\",\")))\n",
        "print(\"before sorting\")\n",
        "b=bubble_sort(l)\n",
        "print(\"After sorting\")"
      ],
      "metadata": {
        "colab": {
          "base_uri": "https://localhost:8080/"
        },
        "id": "dhX2aPgGkMQi",
        "outputId": "544b7206-69b6-471d-ebd6-dba3df69a200"
      },
      "execution_count": null,
      "outputs": [
        {
          "output_type": "stream",
          "name": "stdout",
          "text": [
            "enter values6,3,7,9,2,54,5\n",
            "before sorting\n",
            "[3, 6, 7, 2, 9, 5, 54]\n",
            "1\n",
            "[3, 6, 2, 7, 5, 9, 54]\n",
            "2\n",
            "[3, 2, 6, 5, 7, 9, 54]\n",
            "3\n",
            "[2, 3, 5, 6, 7, 9, 54]\n",
            "4\n",
            "[2, 3, 5, 6, 7, 9, 54]\n",
            "5\n",
            "[2, 3, 5, 6, 7, 9, 54]\n",
            "6\n",
            "After sorting\n"
          ]
        }
      ]
    },
    {
      "cell_type": "code",
      "source": [
        "#bubble sort decending\n",
        "def bubble_sort(l):\n",
        "  count=0\n",
        "  for p in range(len(l)-1):\n",
        "    for q in range(len(l)-1):\n",
        "      if(l[q]<l[q+1]):\n",
        "        l[q],l[q+1]=l[q+1],l[q]\n",
        "    print(l)\n",
        "    count=count+1\n",
        "    print(count)\n",
        "  return l\n",
        "l=list(map(int,input(\"enter values\").split(\",\")))\n",
        "print(\"before sorting\")\n",
        "b=bubble_sort(l)\n",
        "print(\"After sorting\")"
      ],
      "metadata": {
        "colab": {
          "base_uri": "https://localhost:8080/"
        },
        "id": "U-8wnLxhzeLO",
        "outputId": "df919d9e-72d8-4bef-cfb3-9256b22b7554"
      },
      "execution_count": null,
      "outputs": [
        {
          "output_type": "stream",
          "name": "stdout",
          "text": [
            "enter values56,3,1,55,47,44\n",
            "before sorting\n",
            "[56, 3, 55, 47, 44, 1]\n",
            "1\n",
            "[56, 55, 47, 44, 3, 1]\n",
            "2\n",
            "[56, 55, 47, 44, 3, 1]\n",
            "3\n",
            "[56, 55, 47, 44, 3, 1]\n",
            "4\n",
            "[56, 55, 47, 44, 3, 1]\n",
            "5\n",
            "After sorting\n"
          ]
        }
      ]
    },
    {
      "cell_type": "code",
      "source": [
        "#selction sort\n",
        "def selection_sort(l):\n",
        "  for p in range(len(l)):\n",
        "    min_index=p\n",
        "    for q in range(p+1,len(l)):\n",
        "      if(l[q]<l[min_index]):\n",
        "        min_index=q\n",
        "    l[min_index],l[p]=l[p],l[min_index]\n",
        "    print(l)\n",
        "  return l\n",
        "l =list(map(int,input(\"enter values\").split(\",\")))\n",
        "print(\"before sorting\",l)\n",
        "s=selection_sort(l)\n",
        "print(\"After sorting\",s)"
      ],
      "metadata": {
        "id": "uhhKJcQG1Hua",
        "colab": {
          "base_uri": "https://localhost:8080/"
        },
        "outputId": "ec6f5fec-f9b4-4177-849d-84b6ccc584d0"
      },
      "execution_count": null,
      "outputs": [
        {
          "output_type": "stream",
          "name": "stdout",
          "text": [
            "enter values5,4,1,2,3\n",
            "before sorting [5, 4, 1, 2, 3]\n",
            "[1, 4, 5, 2, 3]\n",
            "[1, 2, 5, 4, 3]\n",
            "[1, 2, 3, 4, 5]\n",
            "[1, 2, 3, 4, 5]\n",
            "[1, 2, 3, 4, 5]\n",
            "After sorting [1, 2, 3, 4, 5]\n"
          ]
        }
      ]
    },
    {
      "cell_type": "code",
      "source": [
        "#insertion sort\n",
        "def insertion_sort(l):\n",
        "  for p in range(1,len(l)):\n",
        "    key=l[p]\n",
        "    q=p-1\n",
        "    while((q>=0)and(key<l[q])):\n",
        "      l[q+1]=l[q]\n",
        "      q=q-1\n",
        "    l[q+1]=key\n",
        "    print(l)\n",
        "  return l\n",
        "l=[5,4,1,2,3]\n",
        "print(\"before sorting\",l)\n",
        "r=insertion_sort(l)\n",
        "print(\"after sorting\",r)\n"
      ],
      "metadata": {
        "colab": {
          "base_uri": "https://localhost:8080/"
        },
        "id": "-aJVSIPsUfY3",
        "outputId": "26680114-39a5-4c73-fdc7-64357052d31e"
      },
      "execution_count": null,
      "outputs": [
        {
          "output_type": "stream",
          "name": "stdout",
          "text": [
            "before sorting [5, 4, 1, 2, 3]\n",
            "[4, 5, 1, 2, 3]\n",
            "[1, 4, 5, 2, 3]\n",
            "[1, 2, 4, 5, 3]\n",
            "[1, 2, 3, 4, 5]\n",
            "after sorting [1, 2, 3, 4, 5]\n"
          ]
        }
      ]
    },
    {
      "cell_type": "code",
      "source": [
        "#merge sort\n",
        "def merge(left,right):\n",
        "  merged=[]\n",
        "  i=0\n",
        "  j=0\n",
        "  while((i<len(left))and(j<len(right))):\n",
        "    if(left[i]<right[j]):\n",
        "      merged.append(left[i])\n",
        "      i=i+1\n",
        "    else:\n",
        "      merged.append(right[j])\n",
        "      j=j+1\n",
        "  merged=merged+left[i:]+right[j:]\n",
        "  #print(merged)\n",
        "  return merged\n",
        "def mergesort(l):\n",
        "  if(len(l)==1):\n",
        "    return l\n",
        "  mid=len(l)//2\n",
        "  left=mergesort(l[:mid])\n",
        "  #print(left)\n",
        "  right=mergesort(l[mid:])\n",
        "  #print(right)\n",
        "  return merge(left,right)\n",
        "l=[40,60,30,50,10,20]\n",
        "print(l)\n",
        "s=mergesort(l)\n",
        "print(s)"
      ],
      "metadata": {
        "id": "sh2EgeXuXcV4",
        "colab": {
          "base_uri": "https://localhost:8080/"
        },
        "outputId": "1bd66741-ca6d-4db2-a1be-3cfb3067d7a2"
      },
      "execution_count": null,
      "outputs": [
        {
          "output_type": "stream",
          "name": "stdout",
          "text": [
            "[40, 60, 30, 50, 10, 20]\n",
            "[10, 20, 30, 40, 50, 60]\n"
          ]
        }
      ]
    },
    {
      "cell_type": "code",
      "source": [],
      "metadata": {
        "id": "DABssElA03qj"
      },
      "execution_count": null,
      "outputs": []
    }
  ]
}
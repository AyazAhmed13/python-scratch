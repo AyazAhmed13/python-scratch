{
  "nbformat": 4,
  "nbformat_minor": 0,
  "metadata": {
    "colab": {
      "provenance": [],
      "authorship_tag": "ABX9TyMnahvDegilo7rrZGzl7KIf"
    },
    "kernelspec": {
      "name": "python3",
      "display_name": "Python 3"
    },
    "language_info": {
      "name": "python"
    }
  },
  "cells": [
    {
      "cell_type": "code",
      "execution_count": null,
      "metadata": {
        "colab": {
          "base_uri": "https://localhost:8080/"
        },
        "id": "ZOP4BKAvmj0H",
        "outputId": "dab9ffec-081b-4f5a-b9bc-921c1952e5f9"
      },
      "outputs": [
        {
          "output_type": "stream",
          "name": "stdout",
          "text": [
            "1000 2000\n",
            "1010 2020\n",
            "1010 2020\n",
            "1010 2020\n",
            "1010 2020\n"
          ]
        }
      ],
      "source": [
        "#static variable\n",
        "class test:\n",
        "    a=1000   #static var\n",
        "    b=2000\n",
        "    def display(self):#non static method\n",
        "        print(test.a,test.b)\n",
        "    def update(self):\n",
        "        test.a=test.a+10\n",
        "        test.b=test.b+20\n",
        "t1=test()\n",
        "t1.display()\n",
        "t1.update()\n",
        "t1.display()\n",
        "print(t1.a,t1.b)\n",
        "print(test.a,test.b)\n",
        "t2=test()\n",
        "t2.display()#shows updated value\n"
      ]
    },
    {
      "cell_type": "code",
      "source": [
        "#non static variable        #self keyword is used\n",
        "class test:\n",
        "  def insert(self):\n",
        "    self.a=100\n",
        "    self.b=200\n",
        "  def display(self):\n",
        "    print(self.a,self.b)\n",
        "  def update(self):\n",
        "    self.a=self.a+10\n",
        "    self.b=self.b+20\n",
        "\n",
        "t1=test()\n",
        "t1.insert()\n",
        "t1.display()\n",
        "t1.update()\n",
        "t1.display()\n",
        "t2=test()\n",
        "t2.insert()\n",
        "t2.display()#show initial value"
      ],
      "metadata": {
        "colab": {
          "base_uri": "https://localhost:8080/"
        },
        "id": "NcmHkzhCnLtJ",
        "outputId": "4d60f693-6c23-4d04-9b5c-0c36e986545d"
      },
      "execution_count": null,
      "outputs": [
        {
          "output_type": "stream",
          "name": "stdout",
          "text": [
            "100 200\n",
            "110 220\n",
            "100 200\n"
          ]
        }
      ]
    },
    {
      "cell_type": "code",
      "source": [
        "#default constructor\n",
        "class test:\n",
        "  def __init__(self):\n",
        "    self.a=100\n",
        "    self.b=200\n",
        "    #print(\"in cc\")\n",
        "  def m1(self):\n",
        "    print(self.a,self.b)\n",
        "t1=test()\n",
        "t1.m1()"
      ],
      "metadata": {
        "colab": {
          "base_uri": "https://localhost:8080/"
        },
        "id": "7DeDGb9jooai",
        "outputId": "62116c50-eebc-452c-8073-479705888281"
      },
      "execution_count": null,
      "outputs": [
        {
          "output_type": "stream",
          "name": "stdout",
          "text": [
            "100 200\n"
          ]
        }
      ]
    },
    {
      "cell_type": "code",
      "source": [
        "#parameterized constructor\n",
        "class test:\n",
        "  def __init__(self,a,b):\n",
        "    self.a=a\n",
        "    self.b=b\n",
        "  def m1(self):\n",
        "    print(self.a,self.b)\n",
        "t1=test(10,20)\n",
        "t1.m1()\n",
        "t2=test(30,40)\n",
        "t2.m1()\n",
        "t3=test(50,60)\n",
        "t3.m1()"
      ],
      "metadata": {
        "colab": {
          "base_uri": "https://localhost:8080/"
        },
        "id": "wKTFbLVRs6EY",
        "outputId": "f2be92b6-b309-4e8a-b7b0-924018b8ec1b"
      },
      "execution_count": null,
      "outputs": [
        {
          "output_type": "stream",
          "name": "stdout",
          "text": [
            "10 20\n",
            "30 40\n",
            "50 60\n"
          ]
        }
      ]
    },
    {
      "cell_type": "code",
      "source": [
        "#banking application\n",
        "class cust:\n",
        "  bname=\"sbi\"\n",
        "  def __init__(self,name,aid,add,bal):\n",
        "    self.name=name\n",
        "    self.aid=aid\n",
        "    self.add=add\n",
        "    self.bal=bal\n",
        "  def display(self):\n",
        "    print(cust.bname,self.name,self.aid,self.add,self.bal)\n",
        "  def balance(self):\n",
        "    print(\"balance:\",self.bal)\n",
        "  def deposit(self,amt):\n",
        "    self.bal=self.bal+amt\n",
        "  def withdraw(self,amt):\n",
        "    if(self.bal>amt):\n",
        "      if(self.bal-amt>=2000):\n",
        "        self.bal=self.bal-amt\n",
        "      else:\n",
        "        print(\"maintain min bal\")\n",
        "    else:\n",
        "      print(\"insufficient funds\")\n",
        "c1=cust(\"random\",1002,\"mehd\",80000)\n",
        "c1.display()\n",
        "c1.balance()\n",
        "c1.deposit(5000)\n",
        "c1.balance()\n",
        "c1.withdraw(40000)\n",
        "c1.balance()"
      ],
      "metadata": {
        "colab": {
          "base_uri": "https://localhost:8080/"
        },
        "id": "LN8_JdtPuc1C",
        "outputId": "5062c899-2826-446e-ebcb-b0330d14260a"
      },
      "execution_count": null,
      "outputs": [
        {
          "output_type": "stream",
          "name": "stdout",
          "text": [
            "sbi random 1002 mehd 80000\n",
            "balance: 80000\n",
            "balance: 85000\n",
            "balance: 45000\n"
          ]
        }
      ]
    },
    {
      "cell_type": "code",
      "source": [
        "class book:\n",
        "  bSname=\"hiimalaya\"\n",
        "  def __init__(self,bname,np,cost,aname):\n",
        "    self.bname=bname\n",
        "    self.np=np\n",
        "    self.cost=cost\n",
        "    self.aname=aname\n",
        "  def display(self):\n",
        "    print(book.bSname,self.np,self.cost,self.aname)\n",
        "b1=book('c','no.of pages:150','cost:1000','maxwell')\n",
        "b1.display()\n",
        "b2=book('java',250,1500,'david')\n",
        "b2.display()\n",
        "b3=book('python',500,2500,'kholi')\n",
        "b3.display()"
      ],
      "metadata": {
        "colab": {
          "base_uri": "https://localhost:8080/"
        },
        "id": "DM8xtm2y0G5E",
        "outputId": "fa52dfa6-4c0f-46c5-b461-4306b9d76871"
      },
      "execution_count": null,
      "outputs": [
        {
          "output_type": "stream",
          "name": "stdout",
          "text": [
            "hiimalaya no.of pages:150 cost:1000 maxwell\n",
            "hiimalaya 250 1500 david\n",
            "hiimalaya 500 2500 kholi\n"
          ]
        }
      ]
    },
    {
      "cell_type": "code",
      "source": [
        "class stud:\n",
        "  cname=\"Lords\"\n",
        "  def __init__(self,name,rno,s1,s2,s3):\n",
        "    self.name=name\n",
        "    self.rno=rno\n",
        "    self.s1=s1\n",
        "    self.s2=s2\n",
        "    self.s3=s3\n",
        "  def display(self):\n",
        "    print(stud.cname,self.name,self.rno,self.s1,self.s2,self.s3)\n",
        "  def find_res(self):\n",
        "    if((self.s1>35)and(self.s2>35)and(self.s3>35)):\n",
        "      total=self.s1+self.s2+self.s3\n",
        "      avg=total/3\n",
        "      if(avg>=70):\n",
        "        print(name,\"secured distinction\")\n",
        "      elif(avg>=60):\n",
        "        print(name,\"first class\")\n",
        "      elif(avg>=50):\n",
        "        print(name,\"second class\")\n",
        "      elif(avg>=35):\n",
        "        print(name,\"third class\")\n",
        "    else:\n",
        "      print(name,\"failed\")\n",
        "n=int(input(\"enter no.of students\"))\n",
        "i=1\n",
        "while(i<=n):\n",
        "  name=input(\"enter name:\")\n",
        "  rno=int(input(\"enter no:\"))\n",
        "  s1,s2,s3=map(int,input(\"marks:\").split(\",\"))\n",
        "  se=stud(name,rno,s1,s2,s3)\n",
        "  se.display()\n",
        "  se.find_res()\n",
        "  i=i+1\n",
        "  print(\"******************\")"
      ],
      "metadata": {
        "colab": {
          "base_uri": "https://localhost:8080/"
        },
        "id": "SfmCpWYN3gZ9",
        "outputId": "84780299-8802-443f-aec9-7fb1ed2db67f"
      },
      "execution_count": null,
      "outputs": [
        {
          "output_type": "stream",
          "name": "stdout",
          "text": [
            "enter no.of students3\n",
            "enter name:kkk\n",
            "enter no:45\n",
            "marks:88,88,88\n",
            "Lords kkk 45 88 88 88\n",
            "kkk secured distinction\n",
            "******************\n",
            "enter name:rrr\n",
            "enter no:55\n",
            "marks:35,35,35\n",
            "Lords rrr 55 35 35 35\n",
            "rrr failed\n",
            "******************\n",
            "enter name:ttt\n",
            "enter no:67\n",
            "marks:60,60,60\n",
            "Lords ttt 67 60 60 60\n",
            "ttt first class\n",
            "******************\n"
          ]
        }
      ]
    },
    {
      "cell_type": "code",
      "source": [
        "#has a relation\n",
        "class x:\n",
        "    a=100\n",
        "    def m1(self):\n",
        "        self.b=200\n",
        "    def m2(self):\n",
        "        print(\"in m2\")\n",
        "class y:\n",
        "    c=300\n",
        "    def m3(self):\n",
        "        self.d=400\n",
        "    def m4(self):\n",
        "        print(\"in m4\")\n",
        "    def display(self):\n",
        "        print(y.c)\n",
        "        self.m3()\n",
        "        print(self.d)\n",
        "        self.m4()\n",
        "        x1=x()\n",
        "        print(x.a)\n",
        "        x1.m1()\n",
        "        print(x1.b)\n",
        "        x1.m2()\n",
        "y1=y()\n",
        "y1.display()\n"
      ],
      "metadata": {
        "id": "kL6XsTai-Tpr",
        "colab": {
          "base_uri": "https://localhost:8080/"
        },
        "outputId": "b04f6c99-9694-410e-ad97-8e344ef604dd"
      },
      "execution_count": null,
      "outputs": [
        {
          "output_type": "stream",
          "name": "stdout",
          "text": [
            "300\n",
            "400\n",
            "in m4\n",
            "100\n",
            "200\n",
            "in m2\n"
          ]
        }
      ]
    },
    {
      "cell_type": "code",
      "source": [
        "#inheritance\n",
        "class x:\n",
        "    a=100\n",
        "    def m1(self):\n",
        "        self.b=200\n",
        "    def m2(self):\n",
        "        print(\"in m2\")\n",
        "class y(x):\n",
        "    c=300\n",
        "    def m3(self):\n",
        "        self.d=400\n",
        "    def m4(self):\n",
        "        print(\"in m4\")\n",
        "    def display(self):\n",
        "        print(y.c)\n",
        "        self.m3()\n",
        "        print(self.d)\n",
        "        self.m4()\n",
        "        print(x.a)\n",
        "        self.m1()\n",
        "        print(self.b)\n",
        "        self.m2()\n",
        "y1=y()\n",
        "y1.display()"
      ],
      "metadata": {
        "colab": {
          "base_uri": "https://localhost:8080/"
        },
        "id": "yMdADG7Eg5oK",
        "outputId": "55341061-a603-40e0-e502-165d30a82a57"
      },
      "execution_count": null,
      "outputs": [
        {
          "output_type": "stream",
          "name": "stdout",
          "text": [
            "300\n",
            "400\n",
            "in m4\n",
            "100\n",
            "200\n",
            "in m2\n"
          ]
        }
      ]
    },
    {
      "cell_type": "code",
      "source": [
        "#accesing in main progam\n",
        "class x:\n",
        "    a=100\n",
        "    def m1(self):\n",
        "        self.b=200\n",
        "    def m2(self):\n",
        "        print(\"in m2\")\n",
        "class y(x):\n",
        "    c=300\n",
        "    def m3(self):\n",
        "        self.d=400\n",
        "    def m4(self):\n",
        "        print(\"in m4\")\n",
        "y1=y()\n",
        "print(y.c)\n",
        "y1.m3()\n",
        "print(y1.d)\n",
        "y1.m4()\n",
        "print(x.a)\n",
        "y1.m1()\n",
        "print(y1.b)\n",
        "y1.m2()"
      ],
      "metadata": {
        "colab": {
          "base_uri": "https://localhost:8080/"
        },
        "id": "DEouYEUxi8tc",
        "outputId": "31d24a47-61dc-4b90-d20c-a85aaba82c00"
      },
      "execution_count": null,
      "outputs": [
        {
          "output_type": "stream",
          "name": "stdout",
          "text": [
            "300\n",
            "400\n",
            "in m4\n",
            "100\n",
            "200\n",
            "in m2\n"
          ]
        }
      ]
    },
    {
      "cell_type": "code",
      "source": [
        "class x:\n",
        "  def m1(self):\n",
        "    print(\"in m1:\")\n",
        "x1=x()\n",
        "x1.m1()\n",
        "p=x1.__str__()\n",
        "print(p)"
      ],
      "metadata": {
        "colab": {
          "base_uri": "https://localhost:8080/"
        },
        "id": "7RiMpXmdmwUR",
        "outputId": "a489714b-2cee-4009-b175-561c07e81171"
      },
      "execution_count": null,
      "outputs": [
        {
          "output_type": "stream",
          "name": "stdout",
          "text": [
            "in m1:\n",
            "<__main__.x object at 0x7f2ec5576290>\n"
          ]
        }
      ]
    },
    {
      "cell_type": "code",
      "source": [
        "#single in heritance\n",
        "class x:\n",
        "  def m1(self):\n",
        "    print(\"in m1\")\n",
        "class y(x):\n",
        "  def m2(self):\n",
        "    print(\"in m2\")\n",
        "y1=y()\n",
        "y1.m1()\n",
        "y1.m2()\n"
      ],
      "metadata": {
        "colab": {
          "base_uri": "https://localhost:8080/"
        },
        "id": "VYg2oTOPpMtL",
        "outputId": "697af7bc-b546-4d1d-8345-aaf1a7a56109"
      },
      "execution_count": null,
      "outputs": [
        {
          "output_type": "stream",
          "name": "stdout",
          "text": [
            "in m1\n",
            "in m2\n"
          ]
        }
      ]
    },
    {
      "cell_type": "code",
      "source": [
        "#multi level\n",
        "class x:\n",
        "  def m1(self):\n",
        "    print(\"in m1\")\n",
        "class y(x):\n",
        "  def m2(self):\n",
        "    print(\"in m2\")\n",
        "class z(y):\n",
        "  def m3(self):\n",
        "    print(\"in m3\")\n",
        "z1=z()\n",
        "z1.m1()\n",
        "z1.m2()\n",
        "z1.m3()"
      ],
      "metadata": {
        "colab": {
          "base_uri": "https://localhost:8080/"
        },
        "id": "8VIWB4iEqLSC",
        "outputId": "9d6d7684-0d5c-43bc-fe03-f1a95bed0027"
      },
      "execution_count": null,
      "outputs": [
        {
          "output_type": "stream",
          "name": "stdout",
          "text": [
            "in m1\n",
            "in m2\n",
            "in m3\n"
          ]
        }
      ]
    },
    {
      "cell_type": "code",
      "source": [
        "#hierarichal\n",
        "class x:\n",
        "  def m1(self):\n",
        "    print(\"in m1\")\n",
        "class y(x):\n",
        "  def m2(self):\n",
        "    print(\"in m2\")\n",
        "class z(y):\n",
        "  def m3(self):\n",
        "    print(\"in m3\")\n",
        "z1=z()\n",
        "z1.m1()\n",
        "z1.m3()\n",
        "y1=y()\n",
        "y1.m1()\n",
        "y1.m2()"
      ],
      "metadata": {
        "colab": {
          "base_uri": "https://localhost:8080/"
        },
        "id": "z6OYTWl7rCXz",
        "outputId": "6f039d6b-53c6-415f-e16d-c251de82355b"
      },
      "execution_count": null,
      "outputs": [
        {
          "output_type": "stream",
          "name": "stdout",
          "text": [
            "in m1\n",
            "in m3\n",
            "in m1\n",
            "in m2\n"
          ]
        }
      ]
    },
    {
      "cell_type": "code",
      "source": [
        "#multi level\n",
        "class x:\n",
        "  def m1(self):\n",
        "    print(\"in m1 of x\")\n",
        "class y(x):\n",
        "  def m1(self):\n",
        "    print(\"in m1 of y\")\n",
        "  def m2(self):\n",
        "    print(\"in m2 of y\")\n",
        "class z(y,x):\n",
        "  def m3(self):\n",
        "    print(\"in m3\")\n",
        "\n",
        "z1=z()\n",
        "z1.m1()\n",
        "z1.m2()"
      ],
      "metadata": {
        "colab": {
          "base_uri": "https://localhost:8080/"
        },
        "id": "M78gmK5ysWVq",
        "outputId": "99e12765-9993-444b-b95d-4214db7a57d4"
      },
      "execution_count": null,
      "outputs": [
        {
          "output_type": "stream",
          "name": "stdout",
          "text": [
            "in m1 of y\n",
            "in m2 of y\n"
          ]
        }
      ]
    },
    {
      "cell_type": "code",
      "source": [
        "#hybrid\n",
        "class x:\n",
        "  def m1(self):\n",
        "    print(\"in m1 of x\")\n",
        "class y(x):\n",
        "  def m2(self):\n",
        "    print(\"in m2 of y\")\n",
        "class z(y):\n",
        "  def m3(self):\n",
        "    print(\"in m3\")\n",
        "class a(x):\n",
        "  def m4(self):\n",
        "    print(\"in m4\")\n",
        "a1=a()\n",
        "a1.m4()\n",
        "a1.m1()\n",
        "z1=z()\n",
        "z1.m1()\n",
        "z1.m2()\n",
        "z1.m3()"
      ],
      "metadata": {
        "colab": {
          "base_uri": "https://localhost:8080/"
        },
        "id": "YxqJxsd-u7Ek",
        "outputId": "2f04ef22-bf5c-4eba-bd8e-7f98a3cb0ae5"
      },
      "execution_count": null,
      "outputs": [
        {
          "output_type": "stream",
          "name": "stdout",
          "text": [
            "in m4\n",
            "in m1 of x\n",
            "in m1 of x\n",
            "in m2 of y\n",
            "in m3\n"
          ]
        }
      ]
    },
    {
      "cell_type": "code",
      "source": [
        "#polymorphism\n",
        "#method overloading\n",
        "class x:\n",
        "    def m1(self):\n",
        "        print(\"m1 with no para\")\n",
        "    def m1(self,a):\n",
        "        print(\"m1 with 1 para\")\n",
        "    def m1(self,a,b):\n",
        "        print(\"m1 with 2 para\")\n",
        "x1=x()\n",
        "x1.m1(10,20)\n"
      ],
      "metadata": {
        "id": "Sj5w-Dgvwr09",
        "colab": {
          "base_uri": "https://localhost:8080/"
        },
        "outputId": "517095e2-fc4f-424d-b49e-6d3bb1609081"
      },
      "execution_count": null,
      "outputs": [
        {
          "output_type": "stream",
          "name": "stdout",
          "text": [
            "m1 with 2 para\n"
          ]
        }
      ]
    },
    {
      "cell_type": "code",
      "source": [
        "#method overriding\n",
        "class x:\n",
        "  def m1(self):\n",
        "    print(\"in m1 of x\")\n",
        "  def m2(self):\n",
        "    print(\"in m2 of x\")\n",
        "class y(x):\n",
        "  def m2(self):\n",
        "    print(\"in m2 of y\")\n",
        "  def m3(self):\n",
        "    print(\"in m3 of y\")\n",
        "y1=y()\n",
        "y1.m2()\n",
        "y1.m1()\n",
        "y1.m3()"
      ],
      "metadata": {
        "colab": {
          "base_uri": "https://localhost:8080/"
        },
        "id": "tFCXX6_QriYZ",
        "outputId": "1ba79267-965b-41d5-d3a9-ccb8c8766e57"
      },
      "execution_count": null,
      "outputs": [
        {
          "output_type": "stream",
          "name": "stdout",
          "text": [
            "in m2 of y\n",
            "in m1 of x\n",
            "in m3 of y\n"
          ]
        }
      ]
    },
    {
      "cell_type": "code",
      "source": [
        "#method overriding #super\n",
        "class x:\n",
        "  def m1(self):\n",
        "    print(\"in m1 of x\")\n",
        "  def m2(self):\n",
        "    print(\"in m2 of x\")\n",
        "class y(x):\n",
        "  def m2(self):\n",
        "    print(\"in m2 of y\")\n",
        "    super().m2()\n",
        "  def m3(self):\n",
        "    print(\"in m3 of y\")\n",
        "class z(x):\n",
        "  def m1(self):\n",
        "    print(\"in m1 of z\")\n",
        "    super().m1()\n",
        "  def m4(self):\n",
        "    print(\"in m4 of z\")\n",
        "y1=y()\n",
        "y1.m2()\n",
        "y1.m1()\n",
        "y1.m3()\n",
        "z1=z()\n",
        "z1.m1()"
      ],
      "metadata": {
        "colab": {
          "base_uri": "https://localhost:8080/"
        },
        "id": "Pc-tufoIu-oh",
        "outputId": "33cd9930-8638-4404-8b4a-6d488edccf08"
      },
      "execution_count": null,
      "outputs": [
        {
          "output_type": "stream",
          "name": "stdout",
          "text": [
            "in m2 of y\n",
            "in m2 of x\n",
            "in m1 of x\n",
            "in m3 of y\n",
            "in m1 of z\n",
            "in m1 of x\n"
          ]
        }
      ]
    },
    {
      "cell_type": "code",
      "source": [
        "#method overloding\n",
        "def m1(r,*a):\n",
        "  if(r==\"int\"):\n",
        "    s=0\n",
        "  if(r==\"str\"):\n",
        "    s=''\n",
        "  for p in a:\n",
        "    s=s+p\n",
        "  print(s)\n",
        "m1(\"int\",10,20,30)\n",
        "m1(\"str\",\"raju\",\"rani\",\"saritha\")"
      ],
      "metadata": {
        "colab": {
          "base_uri": "https://localhost:8080/"
        },
        "id": "L1JmyPGqwlg5",
        "outputId": "7c8e5367-edcc-4067-8d23-8cbbbcdf0fc5"
      },
      "execution_count": null,
      "outputs": [
        {
          "output_type": "stream",
          "name": "stdout",
          "text": [
            "60\n",
            "rajuranisaritha\n"
          ]
        }
      ]
    },
    {
      "cell_type": "code",
      "source": [
        "#method overloading\n",
        "class x:\n",
        "  def m1(self):\n",
        "    print(\"in m1 of x\")\n",
        "  def __str__(self):\n",
        "    return \"Python\"\n",
        "x1=x()\n",
        "x1.m1()\n",
        "p=x1.__str__()\n",
        "print(p)\n"
      ],
      "metadata": {
        "colab": {
          "base_uri": "https://localhost:8080/"
        },
        "id": "T6EcfyhN0htb",
        "outputId": "a539a9e1-8cfe-416d-ff98-87966097a960"
      },
      "execution_count": null,
      "outputs": [
        {
          "output_type": "stream",
          "name": "stdout",
          "text": [
            "in m1 of x\n",
            "Python\n"
          ]
        }
      ]
    },
    {
      "cell_type": "code",
      "source": [
        "class x:\n",
        "  def __init__(self,name):\n",
        "    self.name=name\n",
        "  def __str__(self):\n",
        "    return self.name\n",
        "p=x(\"python\")\n",
        "print(p)\n",
        "q=x(\"java\")\n",
        "print(q)\n",
        "r=x(\"js\")\n",
        "print(r)"
      ],
      "metadata": {
        "colab": {
          "base_uri": "https://localhost:8080/"
        },
        "id": "4SSSeWR22Q01",
        "outputId": "1eb150a7-e92e-485d-c06c-4fc75e718f94"
      },
      "execution_count": null,
      "outputs": [
        {
          "output_type": "stream",
          "name": "stdout",
          "text": [
            "python\n",
            "java\n",
            "js\n"
          ]
        }
      ]
    },
    {
      "cell_type": "code",
      "source": [],
      "metadata": {
        "id": "eeEAfh0m40by"
      },
      "execution_count": null,
      "outputs": []
    }
  ]
}
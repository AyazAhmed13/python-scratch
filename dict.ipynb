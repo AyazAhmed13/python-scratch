{
  "nbformat": 4,
  "nbformat_minor": 0,
  "metadata": {
    "colab": {
      "provenance": [],
      "authorship_tag": "ABX9TyOqe8TR9JIQwPOw67LA1Iy3"
    },
    "kernelspec": {
      "name": "python3",
      "display_name": "Python 3"
    },
    "language_info": {
      "name": "python"
    }
  },
  "cells": [
    {
      "cell_type": "code",
      "execution_count": null,
      "metadata": {
        "id": "1epDDuerwmqK"
      },
      "outputs": [],
      "source": [
        "s={\"name\":\"ayaz\",\"id\":433,\"dept\":\"cse\",\"sub\":'python'}"
      ]
    },
    {
      "cell_type": "code",
      "source": [
        "s"
      ],
      "metadata": {
        "colab": {
          "base_uri": "https://localhost:8080/"
        },
        "id": "AhPJo6NDGnoW",
        "outputId": "100a0f6d-00a3-4ad9-d249-dddf9acce059"
      },
      "execution_count": null,
      "outputs": [
        {
          "output_type": "execute_result",
          "data": {
            "text/plain": [
              "{'name': 'ayaz', 'id': 433, 'dept': 'cse', 'sub': 'python'}"
            ]
          },
          "metadata": {},
          "execution_count": 2
        }
      ]
    },
    {
      "cell_type": "code",
      "source": [
        "for p,q in s.items():\n",
        "  print(p,q)"
      ],
      "metadata": {
        "colab": {
          "base_uri": "https://localhost:8080/"
        },
        "id": "MXIBBjdRGoaV",
        "outputId": "54537db8-f59f-4709-902c-49a0a4d82194"
      },
      "execution_count": null,
      "outputs": [
        {
          "output_type": "stream",
          "name": "stdout",
          "text": [
            "name ayaz\n",
            "id 433\n",
            "dept cse\n",
            "sub python\n"
          ]
        }
      ]
    },
    {
      "cell_type": "code",
      "source": [
        "s['salary']=45000"
      ],
      "metadata": {
        "id": "2UtgtzZsGu_F"
      },
      "execution_count": null,
      "outputs": []
    },
    {
      "cell_type": "code",
      "source": [
        "s"
      ],
      "metadata": {
        "colab": {
          "base_uri": "https://localhost:8080/"
        },
        "id": "0cpQWsyLG-XV",
        "outputId": "835eb43a-bfa4-4e93-c413-28a555afe088"
      },
      "execution_count": null,
      "outputs": [
        {
          "output_type": "execute_result",
          "data": {
            "text/plain": [
              "{'name': 'ayaz', 'id': 433, 'dept': 'cse', 'sub': 'python', 'salary': 45000}"
            ]
          },
          "metadata": {},
          "execution_count": 5
        }
      ]
    },
    {
      "cell_type": "code",
      "source": [
        "q={'a':10,'b':20,'c':30,'d':40}\n",
        "z=list(q.keys())\n"
      ],
      "metadata": {
        "id": "pZMJJy7LG_Ql"
      },
      "execution_count": null,
      "outputs": []
    },
    {
      "cell_type": "code",
      "source": [
        "z\n",
        "x=list(q.values())\n",
        "x"
      ],
      "metadata": {
        "colab": {
          "base_uri": "https://localhost:8080/"
        },
        "id": "IRCRYJTEHjqV",
        "outputId": "b8cd177c-324c-41ff-8e42-3b5b9ad4c9e5"
      },
      "execution_count": null,
      "outputs": [
        {
          "output_type": "execute_result",
          "data": {
            "text/plain": [
              "[10, 20, 30, 40]"
            ]
          },
          "metadata": {},
          "execution_count": 20
        }
      ]
    },
    {
      "cell_type": "code",
      "source": [
        "s={\"rambabu\":1,\"avanthi\":30,\"cbn\":3,\"roja\":421,\"jagan\":402,\"lokesh\":6}\n",
        "s"
      ],
      "metadata": {
        "colab": {
          "base_uri": "https://localhost:8080/"
        },
        "id": "Y540678YHu3n",
        "outputId": "2dc55620-adcf-4fa5-88df-29e176193273"
      },
      "execution_count": null,
      "outputs": [
        {
          "output_type": "execute_result",
          "data": {
            "text/plain": [
              "{'rambabu': 1, 'avanthi': 30, 'cbn': 3, 'roja': 421, 'jagan': 402, 'lokesh': 6}"
            ]
          },
          "metadata": {},
          "execution_count": 22
        }
      ]
    },
    {
      "cell_type": "code",
      "source": [
        "#arranging the keys in order\n",
        "r=list(s.keys())\n",
        "r.sort()\n",
        "d={}\n",
        "for x in r:\n",
        "  for p,q in s.items():\n",
        "    if(x==p):\n",
        "      d.update({p:s[p]})\n",
        "      break\n",
        "print(d)"
      ],
      "metadata": {
        "colab": {
          "base_uri": "https://localhost:8080/"
        },
        "id": "ZC8cO6reIj9V",
        "outputId": "8dce333e-33de-46ab-8887-f64c676be9b0"
      },
      "execution_count": null,
      "outputs": [
        {
          "output_type": "stream",
          "name": "stdout",
          "text": [
            "{'avanthi': 30, 'cbn': 3, 'jagan': 402, 'lokesh': 6, 'rambabu': 1, 'roja': 421}\n"
          ]
        }
      ]
    },
    {
      "cell_type": "code",
      "source": [
        "s"
      ],
      "metadata": {
        "colab": {
          "base_uri": "https://localhost:8080/"
        },
        "id": "v67oQX-1K4il",
        "outputId": "79a818a8-d215-40fc-a5d1-3784eb76d09a"
      },
      "execution_count": null,
      "outputs": [
        {
          "output_type": "execute_result",
          "data": {
            "text/plain": [
              "{'rambabu': 1, 'avanthi': 30, 'cbn': 3, 'roja': 421, 'jagan': 402, 'lokesh': 6}"
            ]
          },
          "metadata": {},
          "execution_count": 25
        }
      ]
    },
    {
      "cell_type": "code",
      "source": [
        "#arranging in order of values\n",
        "r=list(s.values())\n",
        "r.sort()\n",
        "d={}\n",
        "for x in r:\n",
        "  for p,q in s.items():\n",
        "    if(x==q):\n",
        "      d.update({p:s[p]})\n",
        "      break\n",
        "print(d)"
      ],
      "metadata": {
        "colab": {
          "base_uri": "https://localhost:8080/"
        },
        "id": "qNgR2Cs5LQwU",
        "outputId": "ca559459-7b7a-4265-cbea-211df0f538bb"
      },
      "execution_count": null,
      "outputs": [
        {
          "output_type": "stream",
          "name": "stdout",
          "text": [
            "{'rambabu': 1, 'cbn': 3, 'lokesh': 6, 'avanthi': 30, 'jagan': 402, 'roja': 421}\n"
          ]
        }
      ]
    },
    {
      "cell_type": "code",
      "source": [
        "#max vowels repated in string\n",
        "s=input(\"enter the string\")\n",
        "r=''\n",
        "v=\"aeiou\"\n",
        "for p in s:\n",
        "  if p in v:\n",
        "    r=r+p\n",
        "print(r)\n",
        "d={p:s.count(p) for p in r}\n",
        "print(d)\n",
        "m=max(d.values())\n",
        "for p,q in d.items():\n",
        "  if(q==m):\n",
        "    print(p)"
      ],
      "metadata": {
        "colab": {
          "base_uri": "https://localhost:8080/"
        },
        "id": "RM5VUx-dLxen",
        "outputId": "45b9a0c4-de61-4c04-cc12-6730d0571ef3"
      },
      "execution_count": null,
      "outputs": [
        {
          "output_type": "stream",
          "name": "stdout",
          "text": [
            "enter the stringassalamalikum\n",
            "aaaaiu\n",
            "{'a': 4, 'i': 1, 'u': 1}\n",
            "a\n"
          ]
        }
      ]
    },
    {
      "cell_type": "code",
      "source": [
        "#replace the element with low ascii\n",
        "s=input(\"enter the string\")\n",
        "d={p:s.count(p) for p in s}\n",
        "print(d)\n",
        "x=input(\"enter the char to replace\")\n",
        "m=max(d.values())\n",
        "l=[]\n",
        "for p,q in d.items():\n",
        "  if(q==m):\n",
        "    l.append(p)\n",
        "l.sort()\n",
        "res=''\n",
        "for p in s:\n",
        "  if(p==l[0]):\n",
        "    res=res+x\n",
        "  else:\n",
        "    res=res+p\n",
        "print(res)\n",
        "\n",
        "\n",
        "\n"
      ],
      "metadata": {
        "colab": {
          "base_uri": "https://localhost:8080/"
        },
        "id": "0yeLenQFP3CD",
        "outputId": "61e59c61-1337-44f4-f192-db6d3f01eda4"
      },
      "execution_count": null,
      "outputs": [
        {
          "output_type": "stream",
          "name": "stdout",
          "text": [
            "enter the stringliril\n",
            "{'l': 2, 'i': 2, 'r': 1}\n",
            "enter the char to replaces\n",
            "lsrsl\n"
          ]
        }
      ]
    },
    {
      "cell_type": "code",
      "source": [
        "#replace the element with hightes ascci\n",
        "s=input(\"enter the string\")\n",
        "d={p:s.count(p) for p in s}\n",
        "print(d)\n",
        "x=input(\"enter the char to replace\")\n",
        "m=max(d.values())\n",
        "l=[]\n",
        "for p,q in d.items():\n",
        "  if(q==m):\n",
        "    l.append(p)\n",
        "l.sort(reverse=True)\n",
        "res=''\n",
        "for p in s:\n",
        "  if(p==l[0]):\n",
        "    res=res+x\n",
        "  else:\n",
        "    res=res+p\n",
        "print(res)\n"
      ],
      "metadata": {
        "colab": {
          "base_uri": "https://localhost:8080/"
        },
        "id": "3NCK-jI8SK_z",
        "outputId": "6947eafb-bb90-4294-b455-2fad029ae834"
      },
      "execution_count": null,
      "outputs": [
        {
          "output_type": "stream",
          "name": "stdout",
          "text": [
            "enter the stringliril\n",
            "{'l': 2, 'i': 2, 'r': 1}\n",
            "enter the char to replaces\n",
            "siris\n"
          ]
        }
      ]
    },
    {
      "cell_type": "code",
      "source": [
        "#least diff b/w the element\n",
        "n=int(input(\"enter the value of n\"))\n",
        "l=list(map(int,input(\"enter values\").split(\",\"))) [:n]\n",
        "print(l)\n",
        "x=int(input(\"enter value for comparing:\"))\n",
        "d={p:abs(x-p) for p in l}\n",
        "print(d)\n",
        "m=min(d.values())\n",
        "for p,q in d.items():\n",
        "  if(m==q):\n",
        "    print(p)"
      ],
      "metadata": {
        "colab": {
          "base_uri": "https://localhost:8080/"
        },
        "id": "XvVfI5Q2WMlM",
        "outputId": "7f445915-da36-4b91-d80e-d629959a9d20"
      },
      "execution_count": null,
      "outputs": [
        {
          "output_type": "stream",
          "name": "stdout",
          "text": [
            "enter the value of n3\n",
            "enter values23,25,65\n",
            "[23, 25, 65]\n",
            "enter value for comparing:27\n",
            "{23: 4, 25: 2, 65: 38}\n",
            "25\n"
          ]
        }
      ]
    },
    {
      "cell_type": "code",
      "source": [
        "s={\"raju\":{\"python\":45,\"c\":56,\"c++\":47},\"rani\":{\"python\":48,\"c\":55,\"c++\":40},\"vivek\":{\"python\":47,\"c\":48,\"c++\":59}}\n",
        "print(s)\n",
        "for p,q in s.items():\n",
        "  print(p)\n",
        "  print(\"-----\")\n",
        "  for a,b in q.items():\n",
        "    print(b)"
      ],
      "metadata": {
        "colab": {
          "base_uri": "https://localhost:8080/"
        },
        "id": "gYAHOdljbHQA",
        "outputId": "e41a220e-a1c8-4104-d274-db24250505bd"
      },
      "execution_count": null,
      "outputs": [
        {
          "output_type": "stream",
          "name": "stdout",
          "text": [
            "{'raju': {'python': 45, 'c': 56, 'c++': 47}, 'rani': {'python': 48, 'c': 55, 'c++': 40}, 'vivek': {'python': 47, 'c': 48, 'c++': 59}}\n",
            "raju\n",
            "-----\n",
            "45\n",
            "56\n",
            "47\n",
            "rani\n",
            "-----\n",
            "48\n",
            "55\n",
            "40\n",
            "vivek\n",
            "-----\n",
            "47\n",
            "48\n",
            "59\n"
          ]
        }
      ]
    },
    {
      "cell_type": "code",
      "source": [],
      "metadata": {
        "id": "2HMeph4ddqpA"
      },
      "execution_count": null,
      "outputs": []
    }
  ]
}
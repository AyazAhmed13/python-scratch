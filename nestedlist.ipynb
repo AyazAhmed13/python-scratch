{
  "nbformat": 4,
  "nbformat_minor": 0,
  "metadata": {
    "colab": {
      "provenance": [],
      "authorship_tag": "ABX9TyO3VL0cLELKXHHnfjB7KL1f"
    },
    "kernelspec": {
      "name": "python3",
      "display_name": "Python 3"
    },
    "language_info": {
      "name": "python"
    }
  },
  "cells": [
    {
      "cell_type": "code",
      "execution_count": null,
      "metadata": {
        "id": "GDUGiPJyrVjc",
        "colab": {
          "base_uri": "https://localhost:8080/"
        },
        "outputId": "fa10f7f0-fe64-4421-9b6b-4ae392d921bd"
      },
      "outputs": [
        {
          "output_type": "stream",
          "name": "stdout",
          "text": [
            "[[1, 2, 3], [4, 5, 6], [7, 8, 9]]\n",
            "[1, 2, 3]\n",
            "------\n",
            "1\n",
            "2\n",
            "3\n",
            "[4, 5, 6]\n",
            "------\n",
            "4\n",
            "5\n",
            "6\n",
            "[7, 8, 9]\n",
            "------\n",
            "7\n",
            "8\n",
            "9\n"
          ]
        }
      ],
      "source": [
        "s=[[1,2,3],[4,5,6],[7,8,9]]\n",
        "print(s)\n",
        "for p in s:\n",
        "  print(p)\n",
        "  print('------')\n",
        "  for q in p:\n",
        "    print(q)"
      ]
    },
    {
      "cell_type": "code",
      "source": [
        "s=[[1,2,3],[4,5,6],[7,8,9]]\n",
        "for p in s:\n",
        "  p.reverse()\n",
        "  print(p)\n",
        "s.reverse()\n",
        "print(s)"
      ],
      "metadata": {
        "colab": {
          "base_uri": "https://localhost:8080/"
        },
        "id": "iJJd8zkc1Xdo",
        "outputId": "55d8b41a-89f8-429c-ae69-dd34b96250aa"
      },
      "execution_count": null,
      "outputs": [
        {
          "output_type": "stream",
          "name": "stdout",
          "text": [
            "[3, 2, 1]\n",
            "[6, 5, 4]\n",
            "[9, 8, 7]\n",
            "[[9, 8, 7], [6, 5, 4], [3, 2, 1]]\n"
          ]
        }
      ]
    },
    {
      "cell_type": "code",
      "source": [
        "#wap to add two nested list row wise\n",
        "s=[[1,2,3],[4,5,6],[7,8,9]]\n",
        "print(s)\n",
        "r=[]\n",
        "for p in s:\n",
        "  s1=0\n",
        "  for q in p:\n",
        "    s1=s1+q\n",
        "  r.append(s1)\n",
        "print(r)"
      ],
      "metadata": {
        "colab": {
          "base_uri": "https://localhost:8080/"
        },
        "id": "i2vb3HHm1h-B",
        "outputId": "19b2155c-f00c-4f1a-ca73-c7ab772f38ee"
      },
      "execution_count": null,
      "outputs": [
        {
          "output_type": "stream",
          "name": "stdout",
          "text": [
            "[[1, 2, 3], [4, 5, 6], [7, 8, 9]]\n",
            "[6, 15, 24]\n"
          ]
        }
      ]
    },
    {
      "cell_type": "code",
      "source": [
        "#column wise sum\n",
        "s=[[1,2,3],[4,5,6],[7,8,9]]\n",
        "print(s)\n",
        "r=[]\n",
        "for p in range(0,len(s)):\n",
        "  s1=0\n",
        "  for q in range(0,len(s[p])):\n",
        "    s1=s1+s[q] [p]\n",
        "  r.append(s1)\n",
        "print(r)"
      ],
      "metadata": {
        "colab": {
          "base_uri": "https://localhost:8080/"
        },
        "id": "zybDqeIW5-3w",
        "outputId": "41349bcf-10a1-4618-92de-70caedd61612"
      },
      "execution_count": null,
      "outputs": [
        {
          "output_type": "stream",
          "name": "stdout",
          "text": [
            "[[1, 2, 3], [4, 5, 6], [7, 8, 9]]\n",
            "[12, 15, 18]\n"
          ]
        }
      ]
    },
    {
      "cell_type": "code",
      "source": [
        "#iterartor\n",
        "s=[1,2,3,4,5]\n",
        "r=iter(s)\n",
        "next(r)"
      ],
      "metadata": {
        "colab": {
          "base_uri": "https://localhost:8080/"
        },
        "id": "z540JfdX8KVh",
        "outputId": "06f9b8f3-ab82-42d2-f0a3-194793f8e5fb"
      },
      "execution_count": null,
      "outputs": [
        {
          "output_type": "execute_result",
          "data": {
            "text/plain": [
              "1"
            ]
          },
          "metadata": {},
          "execution_count": 16
        }
      ]
    },
    {
      "cell_type": "code",
      "source": [
        "next(r)"
      ],
      "metadata": {
        "colab": {
          "base_uri": "https://localhost:8080/"
        },
        "id": "gVCmzXdvA97q",
        "outputId": "492f20e3-90a7-4c77-e747-4c7e2ad4371f"
      },
      "execution_count": null,
      "outputs": [
        {
          "output_type": "execute_result",
          "data": {
            "text/plain": [
              "2"
            ]
          },
          "metadata": {},
          "execution_count": 17
        }
      ]
    },
    {
      "cell_type": "code",
      "source": [
        "next(r)"
      ],
      "metadata": {
        "colab": {
          "base_uri": "https://localhost:8080/"
        },
        "id": "MKtNO2EsA_z5",
        "outputId": "7cbdeb10-b9b6-4539-d6dd-17277a07f5d1"
      },
      "execution_count": null,
      "outputs": [
        {
          "output_type": "execute_result",
          "data": {
            "text/plain": [
              "3"
            ]
          },
          "metadata": {},
          "execution_count": 18
        }
      ]
    },
    {
      "cell_type": "code",
      "source": [
        "next(r)"
      ],
      "metadata": {
        "colab": {
          "base_uri": "https://localhost:8080/"
        },
        "id": "-fQI-IG6BA-h",
        "outputId": "694fa41a-f99b-4d72-9b74-a0d1bf3b2614"
      },
      "execution_count": null,
      "outputs": [
        {
          "output_type": "execute_result",
          "data": {
            "text/plain": [
              "4"
            ]
          },
          "metadata": {},
          "execution_count": 19
        }
      ]
    },
    {
      "cell_type": "code",
      "source": [
        "next(r)"
      ],
      "metadata": {
        "colab": {
          "base_uri": "https://localhost:8080/"
        },
        "id": "N-VxajyqBCJJ",
        "outputId": "99c29075-8dc2-42d5-d3b0-7a9c923d988a"
      },
      "execution_count": null,
      "outputs": [
        {
          "output_type": "execute_result",
          "data": {
            "text/plain": [
              "5"
            ]
          },
          "metadata": {},
          "execution_count": 20
        }
      ]
    },
    {
      "cell_type": "code",
      "source": [
        "s=[12,34,55,78,97]\n",
        "r=enumerate(s)\n",
        "next(r)"
      ],
      "metadata": {
        "colab": {
          "base_uri": "https://localhost:8080/"
        },
        "id": "LKzKE8OXBDk5",
        "outputId": "11ecbb1d-8d2b-4a29-c657-79dd25793f8d"
      },
      "execution_count": null,
      "outputs": [
        {
          "output_type": "execute_result",
          "data": {
            "text/plain": [
              "(0, 12)"
            ]
          },
          "metadata": {},
          "execution_count": 21
        }
      ]
    },
    {
      "cell_type": "code",
      "source": [
        "next(r)"
      ],
      "metadata": {
        "colab": {
          "base_uri": "https://localhost:8080/"
        },
        "id": "OitaL8NJBSfi",
        "outputId": "0532382f-b0fc-4575-dd49-39a10cdd6953"
      },
      "execution_count": null,
      "outputs": [
        {
          "output_type": "execute_result",
          "data": {
            "text/plain": [
              "(1, 34)"
            ]
          },
          "metadata": {},
          "execution_count": 22
        }
      ]
    },
    {
      "cell_type": "code",
      "source": [
        "next(r)"
      ],
      "metadata": {
        "colab": {
          "base_uri": "https://localhost:8080/"
        },
        "id": "rsPgq8jQBUWq",
        "outputId": "94b372bb-8231-4cb5-d219-69ba35543c5b"
      },
      "execution_count": null,
      "outputs": [
        {
          "output_type": "execute_result",
          "data": {
            "text/plain": [
              "(2, 55)"
            ]
          },
          "metadata": {},
          "execution_count": 23
        }
      ]
    },
    {
      "cell_type": "code",
      "source": [
        "r=enumerate(s,5)"
      ],
      "metadata": {
        "id": "nF1FNnxfBVqy"
      },
      "execution_count": null,
      "outputs": []
    },
    {
      "cell_type": "code",
      "source": [
        "next(r)"
      ],
      "metadata": {
        "colab": {
          "base_uri": "https://localhost:8080/"
        },
        "id": "_loLLzX7BeCp",
        "outputId": "78e80d00-29ee-446b-d291-7562ce0f8826"
      },
      "execution_count": null,
      "outputs": [
        {
          "output_type": "execute_result",
          "data": {
            "text/plain": [
              "(5, 12)"
            ]
          },
          "metadata": {},
          "execution_count": 25
        }
      ]
    },
    {
      "cell_type": "code",
      "source": [
        "next(r)"
      ],
      "metadata": {
        "colab": {
          "base_uri": "https://localhost:8080/"
        },
        "id": "GnplZ5tVBfhx",
        "outputId": "87429e1d-0afa-4b45-cfaf-baa6f3cfaa80"
      },
      "execution_count": null,
      "outputs": [
        {
          "output_type": "execute_result",
          "data": {
            "text/plain": [
              "(6, 34)"
            ]
          },
          "metadata": {},
          "execution_count": 26
        }
      ]
    },
    {
      "cell_type": "code",
      "source": [
        "next(r)"
      ],
      "metadata": {
        "colab": {
          "base_uri": "https://localhost:8080/"
        },
        "id": "jrZSVlH3Bj0J",
        "outputId": "cd5571c0-b042-4555-ff91-ce1737c29a63"
      },
      "execution_count": null,
      "outputs": [
        {
          "output_type": "execute_result",
          "data": {
            "text/plain": [
              "(7, 55)"
            ]
          },
          "metadata": {},
          "execution_count": 27
        }
      ]
    },
    {
      "cell_type": "code",
      "source": [
        "s=input('')\n",
        "l=[int (p) for p in s]\n",
        "print(l)\n",
        "res=[]\n",
        "\n",
        "for p in l:\n",
        "  if (p not in res):\n",
        "    res.append(p)\n",
        "\n",
        "\n",
        "print(res)\n",
        "print(len(res))"
      ],
      "metadata": {
        "colab": {
          "base_uri": "https://localhost:8080/"
        },
        "id": "6vIxfwspBrx5",
        "outputId": "bcfd0a85-8c2c-4d05-fb61-6d1d4b6040dd"
      },
      "execution_count": null,
      "outputs": [
        {
          "output_type": "stream",
          "name": "stdout",
          "text": [
            "1210\n",
            "[1, 2, 1, 0]\n",
            "[1, 2, 0]\n",
            "3\n"
          ]
        }
      ]
    },
    {
      "cell_type": "code",
      "source": [
        "\n"
      ],
      "metadata": {
        "id": "fGFYIfozDaLS"
      },
      "execution_count": null,
      "outputs": []
    }
  ]
}
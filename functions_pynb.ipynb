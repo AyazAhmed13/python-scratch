{
  "nbformat": 4,
  "nbformat_minor": 0,
  "metadata": {
    "colab": {
      "provenance": [],
      "authorship_tag": "ABX9TyOYRSSy+3HwFYyUrcoXQGQ8"
    },
    "kernelspec": {
      "name": "python3",
      "display_name": "Python 3"
    },
    "language_info": {
      "name": "python"
    }
  },
  "cells": [
    {
      "cell_type": "code",
      "execution_count": null,
      "metadata": {
        "colab": {
          "base_uri": "https://localhost:8080/"
        },
        "id": "VF5NsKJAIX0c",
        "outputId": "4dde500b-e08d-47e6-acdd-3c0334c68c8d"
      },
      "outputs": [
        {
          "output_type": "stream",
          "name": "stdout",
          "text": [
            "125\n",
            "16\n"
          ]
        }
      ],
      "source": [
        "#closure\n",
        "def power(p):    #outer func\n",
        "  def pow(n):    #inner func\n",
        "    return p**n\n",
        "  return pow\n",
        "s=power(5)\n",
        "r=s(3)\n",
        "print(r)\n",
        "s1=power(4)\n",
        "r1=s1(2)\n",
        "print(r1)"
      ]
    },
    {
      "cell_type": "code",
      "source": [
        "#decorator\n",
        "def smart_div(d):\n",
        "  def division(a,b):\n",
        "    if b==0:\n",
        "      return 0\n",
        "    else:\n",
        "      return d(a,b)\n",
        "  return division\n",
        "\n",
        "\n",
        "@smart_div\n",
        "def div(a,b):\n",
        "  return(a/b)\n",
        "s=div(10,2)\n",
        "print(s)\n",
        "s=div(10,0)\n",
        "print(s)"
      ],
      "metadata": {
        "colab": {
          "base_uri": "https://localhost:8080/"
        },
        "id": "mpF3lwY-UXJc",
        "outputId": "2f835eee-8f81-45df-f326-9217f1544803"
      },
      "execution_count": null,
      "outputs": [
        {
          "output_type": "stream",
          "name": "stdout",
          "text": [
            "5.0\n",
            "0\n"
          ]
        }
      ]
    },
    {
      "cell_type": "code",
      "source": [
        "#decorator ex2\n",
        "def smart_display(s):\n",
        "  def new_display():\n",
        "    print(\"*************\")\n",
        "    s()\n",
        "    print(\"***************\")\n",
        "  return new_display\n",
        "@smart_display\n",
        "def display():\n",
        "  print(\"Python Programming\")\n",
        "\n",
        "display()"
      ],
      "metadata": {
        "colab": {
          "base_uri": "https://localhost:8080/"
        },
        "id": "uHxiocJQXLs0",
        "outputId": "c2734dac-9ae7-4723-fb54-42c1e5417599"
      },
      "execution_count": null,
      "outputs": [
        {
          "output_type": "stream",
          "name": "stdout",
          "text": [
            "*************\n",
            "Python Programming\n",
            "***************\n"
          ]
        }
      ]
    },
    {
      "cell_type": "code",
      "source": [
        "#generator\n",
        "def gen1():\n",
        "  yield 5\n",
        "  yield 10\n",
        "  yield 15\n",
        "  yield 20\n",
        "\n",
        "g1=gen1()\n",
        "r1=next(g1)\n",
        "r2=next(g1)\n",
        "r3=next(g1)\n",
        "r4=next(g1)\n",
        "print(r1,r2,r3,r4)"
      ],
      "metadata": {
        "colab": {
          "base_uri": "https://localhost:8080/"
        },
        "id": "xpUMGpgRZ3SO",
        "outputId": "1d1e6ab8-1326-472a-d462-3461fb85a729"
      },
      "execution_count": null,
      "outputs": [
        {
          "output_type": "stream",
          "name": "stdout",
          "text": [
            "5 10 15 20\n"
          ]
        }
      ]
    },
    {
      "cell_type": "code",
      "source": [
        "def gen1():\n",
        "  l=[5,10,15,20,25]\n",
        "  for p in l:\n",
        "    yield p\n",
        "g1=gen1()\n",
        "for p in g1:\n",
        "  print(p)"
      ],
      "metadata": {
        "colab": {
          "base_uri": "https://localhost:8080/"
        },
        "id": "V87h6-i9b53W",
        "outputId": "bb122e4f-4b06-448a-8fb9-2d99a9c3ae0a"
      },
      "execution_count": null,
      "outputs": [
        {
          "output_type": "stream",
          "name": "stdout",
          "text": [
            "5\n",
            "10\n",
            "15\n",
            "20\n",
            "25\n"
          ]
        }
      ]
    },
    {
      "cell_type": "code",
      "source": [
        "#random otp generation\n",
        "import random\n",
        "def gen1():\n",
        "  while(True):\n",
        "    otp=random.randint(1000,9999)\n",
        "    yield otp\n",
        "g1=gen1()\n",
        "otp1=next(g1)\n",
        "otp2=next(g1)\n",
        "otp3=next(g1)\n",
        "otp4=next(g1)\n",
        "print(otp1,otp2,otp3,otp4)\n"
      ],
      "metadata": {
        "colab": {
          "base_uri": "https://localhost:8080/"
        },
        "id": "lC-zQV28dUG-",
        "outputId": "9803d315-711f-4534-e73e-deac5fe74fca"
      },
      "execution_count": null,
      "outputs": [
        {
          "output_type": "stream",
          "name": "stdout",
          "text": [
            "4667 4926 2995 7800\n"
          ]
        }
      ]
    },
    {
      "cell_type": "code",
      "source": [
        "#finding factorial using genarator\n",
        "import math\n",
        "def fact(a,b):\n",
        "  l=list(range(a,b+1))\n",
        "  for p in l:\n",
        "    f=math.factorial(p)\n",
        "    yield f\n",
        "a,b=map(int,input(\"enter a,b:\").split(\",\"))\n",
        "f=fact(a,b)\n",
        "for p in f:\n",
        "  print(p)"
      ],
      "metadata": {
        "colab": {
          "base_uri": "https://localhost:8080/"
        },
        "id": "d8HvFnOsfGpH",
        "outputId": "72c391bf-987d-428b-8a00-f67516dede3e"
      },
      "execution_count": null,
      "outputs": [
        {
          "output_type": "stream",
          "name": "stdout",
          "text": [
            "enter a,b:5,10\n",
            "120\n",
            "720\n",
            "5040\n",
            "40320\n",
            "362880\n",
            "3628800\n"
          ]
        }
      ]
    },
    {
      "cell_type": "code",
      "source": [
        "#finding no.of passenger above 60 and printing their moblie.no and seat.no\n",
        "n=int(input(\"no.of passenger\"))\n",
        "l=[]\n",
        "for p in range(n):\n",
        "  pinfo=input(\"enter input\")\n",
        "  l.append(pinfo)\n",
        "print(l)\n",
        "c=0\n",
        "for p in l:\n",
        "  d=p[11]+p[12]\n",
        "  age=int(d)\n",
        "  if(age>=60):\n",
        "    print(\"Mobile number:\",p[0:10])\n",
        "    print(\"seat.no:\",p[13:15])\n",
        "    c=c+1\n",
        "print(c)\n"
      ],
      "metadata": {
        "colab": {
          "base_uri": "https://localhost:8080/"
        },
        "id": "Mg0K5HEpjXQl",
        "outputId": "03c7ea19-163e-4b1f-a4a8-b9e7e6223e6d"
      },
      "execution_count": null,
      "outputs": [
        {
          "output_type": "stream",
          "name": "stdout",
          "text": [
            "no.of passenger3\n",
            "enter input9000034657M6514\n",
            "enter input6451329852F6230\n",
            "enter input2315498342F4020\n",
            "['9000034657M6514', '6451329852F6230', '2315498342F4020']\n",
            "Mobile number: 9000034657\n",
            "seat.no: 14\n",
            "Mobile number: 6451329852\n",
            "seat.no: 30\n",
            "2\n"
          ]
        }
      ]
    },
    {
      "cell_type": "code",
      "source": [
        "n=int(input(\"\"))\n",
        "l=[]\n",
        "\n",
        "for p in l:\n",
        "  l.append(l)\n",
        "  sum=0\n",
        "  sum1=sum+l\n",
        "print(sum1)\n"
      ],
      "metadata": {
        "colab": {
          "base_uri": "https://localhost:8080/",
          "height": 227
        },
        "id": "p4lRTbiNl7zR",
        "outputId": "622d338c-87f8-42ce-ae2e-eac10e627593"
      },
      "execution_count": null,
      "outputs": [
        {
          "name": "stdout",
          "output_type": "stream",
          "text": [
            "21\n"
          ]
        },
        {
          "output_type": "error",
          "ename": "NameError",
          "evalue": "ignored",
          "traceback": [
            "\u001b[0;31m---------------------------------------------------------------------------\u001b[0m",
            "\u001b[0;31mNameError\u001b[0m                                 Traceback (most recent call last)",
            "\u001b[0;32m<ipython-input-33-2355ed2c16a8>\u001b[0m in \u001b[0;36m<cell line: 8>\u001b[0;34m()\u001b[0m\n\u001b[1;32m      6\u001b[0m   \u001b[0msum\u001b[0m\u001b[0;34m=\u001b[0m\u001b[0;36m0\u001b[0m\u001b[0;34m\u001b[0m\u001b[0;34m\u001b[0m\u001b[0m\n\u001b[1;32m      7\u001b[0m   \u001b[0msum1\u001b[0m\u001b[0;34m=\u001b[0m\u001b[0msum\u001b[0m\u001b[0;34m+\u001b[0m\u001b[0ml\u001b[0m\u001b[0;34m\u001b[0m\u001b[0;34m\u001b[0m\u001b[0m\n\u001b[0;32m----> 8\u001b[0;31m \u001b[0mprint\u001b[0m\u001b[0;34m(\u001b[0m\u001b[0msum1\u001b[0m\u001b[0;34m)\u001b[0m\u001b[0;34m\u001b[0m\u001b[0;34m\u001b[0m\u001b[0m\n\u001b[0m",
            "\u001b[0;31mNameError\u001b[0m: name 'sum1' is not defined"
          ]
        }
      ]
    },
    {
      "cell_type": "code",
      "source": [
        "a=10\n",
        "def m1():\n",
        "  global a\n",
        "  a=a+10\n",
        "  print(a)\n",
        "m1()"
      ],
      "metadata": {
        "colab": {
          "base_uri": "https://localhost:8080/"
        },
        "id": "8RphnsD5tmVZ",
        "outputId": "b381210e-7d35-4083-e92d-e075478dfc45"
      },
      "execution_count": null,
      "outputs": [
        {
          "output_type": "stream",
          "name": "stdout",
          "text": [
            "20\n"
          ]
        }
      ]
    },
    {
      "cell_type": "code",
      "source": [
        "#without exception\n",
        "print(\"begin\")\n",
        "a=int(input(\"enter a\"))\n",
        "b=int(input(\"enter b\"))\n",
        "c=a/b\n",
        "print(c)\n",
        "print(\"end\")"
      ],
      "metadata": {
        "colab": {
          "base_uri": "https://localhost:8080/",
          "height": 297
        },
        "id": "jSJGgUr_Chbo",
        "outputId": "af50221e-be1a-4201-c50d-47cac9bd68d9"
      },
      "execution_count": null,
      "outputs": [
        {
          "name": "stdout",
          "output_type": "stream",
          "text": [
            "begin\n",
            "enter a10\n",
            "enter b0\n"
          ]
        },
        {
          "output_type": "error",
          "ename": "ZeroDivisionError",
          "evalue": "ignored",
          "traceback": [
            "\u001b[0;31m---------------------------------------------------------------------------\u001b[0m",
            "\u001b[0;31mZeroDivisionError\u001b[0m                         Traceback (most recent call last)",
            "\u001b[0;32m<ipython-input-5-f92fa3038bd4>\u001b[0m in \u001b[0;36m<cell line: 4>\u001b[0;34m()\u001b[0m\n\u001b[1;32m      2\u001b[0m \u001b[0ma\u001b[0m\u001b[0;34m=\u001b[0m\u001b[0mint\u001b[0m\u001b[0;34m(\u001b[0m\u001b[0minput\u001b[0m\u001b[0;34m(\u001b[0m\u001b[0;34m\"enter a\"\u001b[0m\u001b[0;34m)\u001b[0m\u001b[0;34m)\u001b[0m\u001b[0;34m\u001b[0m\u001b[0;34m\u001b[0m\u001b[0m\n\u001b[1;32m      3\u001b[0m \u001b[0mb\u001b[0m\u001b[0;34m=\u001b[0m\u001b[0mint\u001b[0m\u001b[0;34m(\u001b[0m\u001b[0minput\u001b[0m\u001b[0;34m(\u001b[0m\u001b[0;34m\"enter b\"\u001b[0m\u001b[0;34m)\u001b[0m\u001b[0;34m)\u001b[0m\u001b[0;34m\u001b[0m\u001b[0;34m\u001b[0m\u001b[0m\n\u001b[0;32m----> 4\u001b[0;31m \u001b[0mc\u001b[0m\u001b[0;34m=\u001b[0m\u001b[0ma\u001b[0m\u001b[0;34m/\u001b[0m\u001b[0mb\u001b[0m\u001b[0;34m\u001b[0m\u001b[0;34m\u001b[0m\u001b[0m\n\u001b[0m\u001b[1;32m      5\u001b[0m \u001b[0mprint\u001b[0m\u001b[0;34m(\u001b[0m\u001b[0mc\u001b[0m\u001b[0;34m)\u001b[0m\u001b[0;34m\u001b[0m\u001b[0;34m\u001b[0m\u001b[0m\n\u001b[1;32m      6\u001b[0m \u001b[0mprint\u001b[0m\u001b[0;34m(\u001b[0m\u001b[0;34m\"end\"\u001b[0m\u001b[0;34m)\u001b[0m\u001b[0;34m\u001b[0m\u001b[0;34m\u001b[0m\u001b[0m\n",
            "\u001b[0;31mZeroDivisionError\u001b[0m: division by zero"
          ]
        }
      ]
    },
    {
      "cell_type": "code",
      "source": [
        "#with exception\n",
        "print(\"begin\")\n",
        "try:\n",
        "  a=int(input(\"enter a\"))\n",
        "\n",
        "  b=int(input(\"enter b\"))\n",
        "  c=a/b\n",
        "  print(c)\n",
        "except(ValueError):\n",
        "  print(\"enter valid data\")\n",
        "print(\"end\")"
      ],
      "metadata": {
        "colab": {
          "base_uri": "https://localhost:8080/"
        },
        "id": "fMLmsbfFH8za",
        "outputId": "ceebca88-076d-4cbc-ab8a-a48f062d9af6"
      },
      "execution_count": null,
      "outputs": [
        {
          "output_type": "stream",
          "name": "stdout",
          "text": [
            "begin\n",
            "enter a25\n",
            "enter bmc\n",
            "enter valid data\n",
            "end\n"
          ]
        }
      ]
    },
    {
      "cell_type": "code",
      "source": [
        "print(\"begin\")\n",
        "try:\n",
        "  a=int(input(\"enter a:\"))\n",
        "  b=int(input(\"enter b:\"))\n",
        "  c=a/b\n",
        "  print(c)\n",
        "except(ValueError):\n",
        "  print(\"enter valid data:int\")\n",
        "except(ZeroDivisionError):\n",
        "  print(\"second number can't be zero\")\n",
        "print(\"end\")"
      ],
      "metadata": {
        "colab": {
          "base_uri": "https://localhost:8080/"
        },
        "id": "M_S9rgERJ8y6",
        "outputId": "14d6e8f6-c013-4b3f-994d-1e6ff430b745"
      },
      "execution_count": null,
      "outputs": [
        {
          "output_type": "stream",
          "name": "stdout",
          "text": [
            "begin\n",
            "enter a5\n",
            "enter bmc\n",
            "enter valid data:int\n",
            "end\n"
          ]
        }
      ]
    },
    {
      "cell_type": "code",
      "source": [
        "print(\"begin\")\n",
        "try:\n",
        "  a=int(input(\"enter a:\"))\n",
        "  b=int(input(\"enter b:\"))\n",
        "  c=a/b\n",
        "  print(c)\n",
        "except(ZeroDivisionError):\n",
        "  print(\"second number can't be zero\")\n",
        "finally:\n",
        "  print(\"welcome\")\n",
        "print(\"end\")"
      ],
      "metadata": {
        "colab": {
          "base_uri": "https://localhost:8080/"
        },
        "id": "jRzzrYMZNUxK",
        "outputId": "28bb641e-357a-440e-a9e0-b1af05711d50"
      },
      "execution_count": null,
      "outputs": [
        {
          "output_type": "stream",
          "name": "stdout",
          "text": [
            "begin\n",
            "enter a:65565656565\n",
            "enter b:0\n",
            "second number can't be zero\n",
            "welcome\n",
            "end\n"
          ]
        }
      ]
    },
    {
      "cell_type": "code",
      "source": [
        "\n",
        "def even(a):\n",
        "  assert(a%2==0),\"the num should be even\"\n",
        "  print(a,\"is even\")\n",
        "even(12)\n",
        "even(5)\n",
        "\n",
        "\n"
      ],
      "metadata": {
        "colab": {
          "base_uri": "https://localhost:8080/",
          "height": 383
        },
        "id": "-d3UGEDXO7x8",
        "outputId": "c20fd429-3d3c-4480-b89c-376466164ed9"
      },
      "execution_count": null,
      "outputs": [
        {
          "output_type": "stream",
          "name": "stdout",
          "text": [
            "12 is even\n"
          ]
        },
        {
          "output_type": "error",
          "ename": "AssertionError",
          "evalue": "ignored",
          "traceback": [
            "\u001b[0;31m---------------------------------------------------------------------------\u001b[0m",
            "\u001b[0;31mAssertionError\u001b[0m                            Traceback (most recent call last)",
            "\u001b[0;32m<ipython-input-16-492b44cfe5ea>\u001b[0m in \u001b[0;36m<cell line: 5>\u001b[0;34m()\u001b[0m\n\u001b[1;32m      3\u001b[0m   \u001b[0mprint\u001b[0m\u001b[0;34m(\u001b[0m\u001b[0ma\u001b[0m\u001b[0;34m,\u001b[0m\u001b[0;34m\"is even\"\u001b[0m\u001b[0;34m)\u001b[0m\u001b[0;34m\u001b[0m\u001b[0;34m\u001b[0m\u001b[0m\n\u001b[1;32m      4\u001b[0m \u001b[0meven\u001b[0m\u001b[0;34m(\u001b[0m\u001b[0;36m12\u001b[0m\u001b[0;34m)\u001b[0m\u001b[0;34m\u001b[0m\u001b[0;34m\u001b[0m\u001b[0m\n\u001b[0;32m----> 5\u001b[0;31m \u001b[0meven\u001b[0m\u001b[0;34m(\u001b[0m\u001b[0;36m5\u001b[0m\u001b[0;34m)\u001b[0m\u001b[0;34m\u001b[0m\u001b[0;34m\u001b[0m\u001b[0m\n\u001b[0m\u001b[1;32m      6\u001b[0m \u001b[0;34m\u001b[0m\u001b[0m\n\u001b[1;32m      7\u001b[0m \u001b[0;34m\u001b[0m\u001b[0m\n",
            "\u001b[0;32m<ipython-input-16-492b44cfe5ea>\u001b[0m in \u001b[0;36meven\u001b[0;34m(a)\u001b[0m\n\u001b[1;32m      1\u001b[0m \u001b[0;32mdef\u001b[0m \u001b[0meven\u001b[0m\u001b[0;34m(\u001b[0m\u001b[0ma\u001b[0m\u001b[0;34m)\u001b[0m\u001b[0;34m:\u001b[0m\u001b[0;34m\u001b[0m\u001b[0;34m\u001b[0m\u001b[0m\n\u001b[0;32m----> 2\u001b[0;31m   \u001b[0;32massert\u001b[0m\u001b[0;34m(\u001b[0m\u001b[0ma\u001b[0m\u001b[0;34m%\u001b[0m\u001b[0;36m2\u001b[0m\u001b[0;34m==\u001b[0m\u001b[0;36m0\u001b[0m\u001b[0;34m)\u001b[0m\u001b[0;34m,\u001b[0m\u001b[0;34m\"the num should be even\"\u001b[0m\u001b[0;34m\u001b[0m\u001b[0;34m\u001b[0m\u001b[0m\n\u001b[0m\u001b[1;32m      3\u001b[0m   \u001b[0mprint\u001b[0m\u001b[0;34m(\u001b[0m\u001b[0ma\u001b[0m\u001b[0;34m,\u001b[0m\u001b[0;34m\"is even\"\u001b[0m\u001b[0;34m)\u001b[0m\u001b[0;34m\u001b[0m\u001b[0;34m\u001b[0m\u001b[0m\n\u001b[1;32m      4\u001b[0m \u001b[0meven\u001b[0m\u001b[0;34m(\u001b[0m\u001b[0;36m12\u001b[0m\u001b[0;34m)\u001b[0m\u001b[0;34m\u001b[0m\u001b[0;34m\u001b[0m\u001b[0m\n\u001b[1;32m      5\u001b[0m \u001b[0meven\u001b[0m\u001b[0;34m(\u001b[0m\u001b[0;36m5\u001b[0m\u001b[0;34m)\u001b[0m\u001b[0;34m\u001b[0m\u001b[0;34m\u001b[0m\u001b[0m\n",
            "\u001b[0;31mAssertionError\u001b[0m: the num should be even"
          ]
        }
      ]
    },
    {
      "cell_type": "code",
      "source": [
        "\n",
        "def even(a):\n",
        "  assert(a%2==0),\"the num should be even\"\n",
        "  print(a,\"is even\")\n",
        "try:\n",
        "  even(12)\n",
        "  even(6)\n",
        "  even(5)\n",
        "except(AssertionError):\n",
        "  print(\"the num should be even\")\n"
      ],
      "metadata": {
        "colab": {
          "base_uri": "https://localhost:8080/"
        },
        "id": "ARpelAeYPyNB",
        "outputId": "a260ced0-a8de-42f3-c6d9-8b9157ef3671"
      },
      "execution_count": null,
      "outputs": [
        {
          "output_type": "stream",
          "name": "stdout",
          "text": [
            "12 is even\n",
            "6 is even\n",
            "the num should be even\n"
          ]
        }
      ]
    },
    {
      "cell_type": "code",
      "source": [
        "def hi(n):\n",
        "  assert(5<n<16),\"the num should be in b/w 5-15\"\n",
        "  print(n)\n",
        "hi(12)\n",
        "hi\n",
        "hi(17)"
      ],
      "metadata": {
        "colab": {
          "base_uri": "https://localhost:8080/",
          "height": 349
        },
        "id": "agbFtFFaSLz8",
        "outputId": "434be29c-aecf-44c8-a2df-19f6c2aaf7f9"
      },
      "execution_count": null,
      "outputs": [
        {
          "output_type": "stream",
          "name": "stdout",
          "text": [
            "12\n"
          ]
        },
        {
          "output_type": "error",
          "ename": "AssertionError",
          "evalue": "ignored",
          "traceback": [
            "\u001b[0;31m---------------------------------------------------------------------------\u001b[0m",
            "\u001b[0;31mAssertionError\u001b[0m                            Traceback (most recent call last)",
            "\u001b[0;32m<ipython-input-25-152063353c45>\u001b[0m in \u001b[0;36m<cell line: 5>\u001b[0;34m()\u001b[0m\n\u001b[1;32m      3\u001b[0m   \u001b[0mprint\u001b[0m\u001b[0;34m(\u001b[0m\u001b[0mn\u001b[0m\u001b[0;34m)\u001b[0m\u001b[0;34m\u001b[0m\u001b[0;34m\u001b[0m\u001b[0m\n\u001b[1;32m      4\u001b[0m \u001b[0mhi\u001b[0m\u001b[0;34m(\u001b[0m\u001b[0;36m12\u001b[0m\u001b[0;34m)\u001b[0m\u001b[0;34m\u001b[0m\u001b[0;34m\u001b[0m\u001b[0m\n\u001b[0;32m----> 5\u001b[0;31m \u001b[0mhi\u001b[0m\u001b[0;34m(\u001b[0m\u001b[0;36m17\u001b[0m\u001b[0;34m)\u001b[0m\u001b[0;34m\u001b[0m\u001b[0;34m\u001b[0m\u001b[0m\n\u001b[0m",
            "\u001b[0;32m<ipython-input-25-152063353c45>\u001b[0m in \u001b[0;36mhi\u001b[0;34m(n)\u001b[0m\n\u001b[1;32m      1\u001b[0m \u001b[0;32mdef\u001b[0m \u001b[0mhi\u001b[0m\u001b[0;34m(\u001b[0m\u001b[0mn\u001b[0m\u001b[0;34m)\u001b[0m\u001b[0;34m:\u001b[0m\u001b[0;34m\u001b[0m\u001b[0;34m\u001b[0m\u001b[0m\n\u001b[0;32m----> 2\u001b[0;31m   \u001b[0;32massert\u001b[0m\u001b[0;34m(\u001b[0m\u001b[0;36m5\u001b[0m\u001b[0;34m<\u001b[0m\u001b[0mn\u001b[0m\u001b[0;34m<\u001b[0m\u001b[0;36m16\u001b[0m\u001b[0;34m)\u001b[0m\u001b[0;34m,\u001b[0m\u001b[0;34m\"the num should be in b/w 5-15\"\u001b[0m\u001b[0;34m\u001b[0m\u001b[0;34m\u001b[0m\u001b[0m\n\u001b[0m\u001b[1;32m      3\u001b[0m   \u001b[0mprint\u001b[0m\u001b[0;34m(\u001b[0m\u001b[0mn\u001b[0m\u001b[0;34m)\u001b[0m\u001b[0;34m\u001b[0m\u001b[0;34m\u001b[0m\u001b[0m\n\u001b[1;32m      4\u001b[0m \u001b[0mhi\u001b[0m\u001b[0;34m(\u001b[0m\u001b[0;36m12\u001b[0m\u001b[0;34m)\u001b[0m\u001b[0;34m\u001b[0m\u001b[0;34m\u001b[0m\u001b[0m\n\u001b[1;32m      5\u001b[0m \u001b[0mhi\u001b[0m\u001b[0;34m(\u001b[0m\u001b[0;36m17\u001b[0m\u001b[0;34m)\u001b[0m\u001b[0;34m\u001b[0m\u001b[0;34m\u001b[0m\u001b[0m\n",
            "\u001b[0;31mAssertionError\u001b[0m: the num should be in b/w 5-15"
          ]
        }
      ]
    },
    {
      "cell_type": "code",
      "source": [],
      "metadata": {
        "id": "JOdp6bpmSsMk"
      },
      "execution_count": null,
      "outputs": []
    }
  ]
}
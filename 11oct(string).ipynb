{
  "nbformat": 4,
  "nbformat_minor": 0,
  "metadata": {
    "colab": {
      "provenance": [],
      "authorship_tag": "ABX9TyNHAPnU0AI1Kb2mIz4TBZm7"
    },
    "kernelspec": {
      "name": "python3",
      "display_name": "Python 3"
    },
    "language_info": {
      "name": "python"
    }
  },
  "cells": [
    {
      "cell_type": "code",
      "execution_count": null,
      "metadata": {
        "colab": {
          "base_uri": "https://localhost:8080/"
        },
        "id": "x3d3mKwfL-Pz",
        "outputId": "d8622749-7898-4845-ae7f-f91a99182754"
      },
      "outputs": [
        {
          "output_type": "stream",
          "name": "stdout",
          "text": [
            "1\n",
            "3\n",
            "5\n",
            "7\n",
            "9\n",
            "11\n",
            "13\n",
            "15\n",
            "17\n",
            "19\n"
          ]
        }
      ],
      "source": [
        "#odd numbers\n",
        "for p in range(1,21):\n",
        "    if(p%2!=0):\n",
        "        print(p)"
      ]
    },
    {
      "cell_type": "code",
      "source": [
        "#even numbers\n",
        "for p in range(1,21):\n",
        "    if(p%2==0):\n",
        "        print(p)\n",
        "for p in range(1,11):\n",
        "    print(p)"
      ],
      "metadata": {
        "colab": {
          "base_uri": "https://localhost:8080/"
        },
        "id": "5V8HzZBHMH-2",
        "outputId": "30e84d32-d9ed-47d0-88e2-a0feb6b75de0"
      },
      "execution_count": null,
      "outputs": [
        {
          "output_type": "stream",
          "name": "stdout",
          "text": [
            "2\n",
            "4\n",
            "6\n",
            "8\n",
            "10\n",
            "12\n",
            "14\n",
            "16\n",
            "18\n",
            "20\n",
            "1\n",
            "2\n",
            "3\n",
            "4\n",
            "5\n",
            "6\n",
            "7\n",
            "8\n",
            "9\n",
            "10\n"
          ]
        }
      ]
    },
    {
      "cell_type": "code",
      "source": [
        "#reverse of a string\n",
        "s=input(\"enter a str:\")\n",
        "r=''\n",
        "for p in range(len(s)-1,-1,-1):\n",
        "    d=s[p]\n",
        "    r=r+d\n",
        "print(\"reverse:\",r)\n",
        "if(r==s):\n",
        "    print(\"the given input string is palindrome\")\n",
        "else:\n",
        "    print(\"the given input string is not palindrome:\")"
      ],
      "metadata": {
        "colab": {
          "base_uri": "https://localhost:8080/"
        },
        "id": "efox9CyxMNM1",
        "outputId": "8d2d6610-fa70-4e99-b456-6885761a5cee"
      },
      "execution_count": null,
      "outputs": [
        {
          "output_type": "stream",
          "name": "stdout",
          "text": [
            "enter a str:welcome\n",
            "reverse: emoclew\n",
            "the given input string is not palindrome:\n"
          ]
        }
      ]
    },
    {
      "cell_type": "code",
      "source": [
        "#reverse of sentence\n",
        "s=input(\"enter a sentence:\")\n",
        "r=s.split()\n",
        "for p in range(len(r)-1,-1,-1):\n",
        "    print(r[p],end=\" \")"
      ],
      "metadata": {
        "colab": {
          "base_uri": "https://localhost:8080/"
        },
        "id": "Kt19I98fMWNV",
        "outputId": "32412b76-3761-4e75-f330-e03921780538"
      },
      "execution_count": null,
      "outputs": [
        {
          "output_type": "stream",
          "name": "stdout",
          "text": [
            "enter a sentence:my name is ayaz\n",
            "ayaz is name my "
          ]
        }
      ]
    },
    {
      "cell_type": "code",
      "source": [
        "#reverse of each letter in sentence\n",
        "s=input(\"enter a sentence:\")\n",
        "r=s.split()\n",
        "for p in range(len(r)-1,-1,-1):\n",
        "    d=r[p] [::-1]\n",
        "    print(d,end=\" \")"
      ],
      "metadata": {
        "colab": {
          "base_uri": "https://localhost:8080/"
        },
        "id": "y5us0Y7fMgg2",
        "outputId": "d8718fcb-b0cd-4cd1-9d6e-6c0157154b39"
      },
      "execution_count": null,
      "outputs": [
        {
          "output_type": "stream",
          "name": "stdout",
          "text": [
            "enter a sentence:welcome to india\n",
            "aidni ot emoclew "
          ]
        }
      ]
    },
    {
      "cell_type": "code",
      "source": [
        "#reverse of sentence and letter\n",
        "s=input(\"enter a sentence:\")\n",
        "r=s.split()\n",
        "for p in range(0,len(r)):\n",
        "    d=r[p] [::-1]\n",
        "    print(d,end=\" \")"
      ],
      "metadata": {
        "colab": {
          "base_uri": "https://localhost:8080/"
        },
        "id": "tOHc4-lOMn-F",
        "outputId": "41a3ced5-06ae-4130-b2a7-07879383dcb8"
      },
      "execution_count": null,
      "outputs": [
        {
          "output_type": "stream",
          "name": "stdout",
          "text": [
            "enter a sentence:welcome to india\n",
            "emoclew ot aidni "
          ]
        }
      ]
    },
    {
      "cell_type": "code",
      "source": [
        "s=input(\"enter the string\")\n",
        "v=\"aeiou\"\n",
        "res=''\n",
        "for p in s:\n",
        "    if p in v:\n",
        "        if(p==\"u\"):\n",
        "            res=res+'a'\n",
        "        else:\n",
        "            res=res+v[v.index(p)+1]\n",
        "    else:\n",
        "        res=res+p\n",
        "print(res)"
      ],
      "metadata": {
        "colab": {
          "base_uri": "https://localhost:8080/"
        },
        "id": "ra1DqYxjMwW1",
        "outputId": "9f19f7c0-1981-481f-c267-459317b2ba2c"
      },
      "execution_count": null,
      "outputs": [
        {
          "output_type": "stream",
          "name": "stdout",
          "text": [
            "enter the stringindia\n",
            "ondoe\n"
          ]
        }
      ]
    },
    {
      "cell_type": "code",
      "source": [
        "s=input(\"enter the string\")\n",
        "r=''\n",
        "for p in s:\n",
        "    if(p.isalpha()):\n",
        "        r=r+p\n",
        "r=r[::-1]\n",
        "print(r)\n",
        "i=0\n",
        "res=''\n",
        "for p in s:\n",
        "    if(p.isalpha()):\n",
        "        res=res+r[i]\n",
        "        i=i+1\n",
        "    else:\n",
        "        res=res+p\n",
        "print(res)"
      ],
      "metadata": {
        "colab": {
          "base_uri": "https://localhost:8080/"
        },
        "id": "5T9sQhntM3Jd",
        "outputId": "79850272-bc92-4908-844f-4a4aa245aac1"
      },
      "execution_count": null,
      "outputs": [
        {
          "output_type": "stream",
          "name": "stdout",
          "text": [
            "enter the stringapple\n",
            "elppa\n",
            "elppa\n"
          ]
        }
      ]
    },
    {
      "cell_type": "code",
      "source": [
        "s=input(\"enter the string:\")\n",
        "vc,cc=0,0\n",
        "v=\"aeiou\"\n",
        "for p in s:\n",
        "    if p in v:\n",
        "        vc=vc+1\n",
        "    elif((p not in v) and not(p.isspace())):\n",
        "         cc=cc+1\n",
        "print(\"no.of vowels:\",vc)\n",
        "print(\"no.of consonant:\",cc)"
      ],
      "metadata": {
        "colab": {
          "base_uri": "https://localhost:8080/"
        },
        "id": "uDGiu6yaM84N",
        "outputId": "6de25a04-c2d7-4ed0-bcd4-4c93caedc1a0"
      },
      "execution_count": null,
      "outputs": [
        {
          "output_type": "stream",
          "name": "stdout",
          "text": [
            "enter the string:ayazahmed\n",
            "no.of vowels: 4\n",
            "no.of consonant: 5\n"
          ]
        }
      ]
    },
    {
      "cell_type": "code",
      "source": [
        "s=input(\"enter the string:\")\n",
        "s=s.lower()\n",
        "res=''\n",
        "for p in range(97,123):\n",
        "    d=chr(p)\n",
        "    if(d not in s):\n",
        "        res=res+d\n",
        "print(res)"
      ],
      "metadata": {
        "colab": {
          "base_uri": "https://localhost:8080/"
        },
        "id": "WOy2A32ONFxl",
        "outputId": "d504fd71-262e-4b90-ab19-69004d28bb31"
      },
      "execution_count": null,
      "outputs": [
        {
          "output_type": "stream",
          "name": "stdout",
          "text": [
            "enter the string:yxdgahsj\n",
            "bcefiklmnopqrtuvwz\n"
          ]
        }
      ]
    },
    {
      "cell_type": "code",
      "source": [
        "s=input(\"enter the string\")\n",
        "v=\"abcdefghijklmnopqrstuvwxyz\"\n",
        "res=''\n",
        "for p in s:\n",
        "    if p in v:\n",
        "            res=res+v[v.index(p)+1]\n",
        "print(res)"
      ],
      "metadata": {
        "colab": {
          "base_uri": "https://localhost:8080/"
        },
        "id": "oEoKe-tjNM3k",
        "outputId": "60d45241-e587-45b7-be60-8393260a4344"
      },
      "execution_count": null,
      "outputs": [
        {
          "output_type": "stream",
          "name": "stdout",
          "text": [
            "enter the stringabcd\n",
            "bcde\n"
          ]
        }
      ]
    },
    {
      "cell_type": "code",
      "source": [
        "s=input(\"enter  a str;\")\n",
        "res=''\n",
        "for p in range(0,len(s)):\n",
        "    if(s[p].isalpha()):\n",
        "        res=res+str(p)"
      ],
      "metadata": {
        "colab": {
          "base_uri": "https://localhost:8080/"
        },
        "id": "3pNySoz8NTZ1",
        "outputId": "54a3c4a1-6a46-4eb5-d136-1930435d43ac"
      },
      "execution_count": null,
      "outputs": [
        {
          "name": "stdout",
          "output_type": "stream",
          "text": [
            "enter  a str;ayaz\n"
          ]
        }
      ]
    },
    {
      "cell_type": "code",
      "source": [],
      "metadata": {
        "id": "B0Sm3E1gNd80"
      },
      "execution_count": null,
      "outputs": []
    }
  ]
}
{
  "nbformat": 4,
  "nbformat_minor": 0,
  "metadata": {
    "colab": {
      "provenance": [],
      "authorship_tag": "ABX9TyOUedT7xMiCymEGe5g2k4iA"
    },
    "kernelspec": {
      "name": "python3",
      "display_name": "Python 3"
    },
    "language_info": {
      "name": "python"
    }
  },
  "cells": [
    {
      "cell_type": "code",
      "execution_count": null,
      "metadata": {
        "colab": {
          "base_uri": "https://localhost:8080/"
        },
        "id": "AjCPyW53UNIu",
        "outputId": "e7cf708d-122e-4789-9c8d-c5517e9ec152"
      },
      "outputs": [
        {
          "name": "stdout",
          "output_type": "stream",
          "text": [
            "enter the stack size:4\n",
            "1.push,2.pop,3.display,4.exit\n",
            "enter the option:1\n",
            "enter the ele:33\n",
            "1.push,2.pop,3.display,4.exit\n",
            "enter the option:1\n",
            "enter the ele:44\n",
            "1.push,2.pop,3.display,4.exit\n",
            "enter the option:1\n",
            "enter the ele:55\n",
            "1.push,2.pop,3.display,4.exit\n",
            "enter the option:1\n",
            "enter the ele:66\n",
            "1.push,2.pop,3.display,4.exit\n",
            "enter the option:1\n",
            "stack is full\n",
            "1.push,2.pop,3.display,4.exit\n",
            "enter the option:3\n",
            "[33, 44, 55, 66]\n",
            "1.push,2.pop,3.display,4.exit\n",
            "enter the option:4\n"
          ]
        }
      ],
      "source": [
        "#stack\n",
        "size=int(input(\"enter the stack size:\"))\n",
        "s=[]\n",
        "top=-1\n",
        "while(True):\n",
        "  print(\"1.push,2.pop,3.display,4.exit\")\n",
        "  opt=int(input(\"enter the option:\"))\n",
        "  if(opt==1):\n",
        "    if(top<size-1):\n",
        "\n",
        "      ele=int(input(\"enter the ele:\"))\n",
        "      s.append(ele)\n",
        "      top=top+1\n",
        "    else:\n",
        "      print(\"stack is full\")\n",
        "  elif(opt==2):\n",
        "    if(top==-1):\n",
        "      print(\"stack is empty\")\n",
        "    else:\n",
        "      print(\"the deleted ele is:\",s.pop())\n",
        "      top=top-1\n",
        "  elif(opt==3):\n",
        "    print(s)\n",
        "  elif(opt==4):\n",
        "    break"
      ]
    },
    {
      "cell_type": "code",
      "source": [
        "from collections import deque\n",
        "s=deque()\n",
        "s.append(10)\n",
        "s.append(20)\n",
        "s.append(30)\n",
        "s.append(\"krinshna\")\n",
        "s.append(3+4j)\n",
        "print(s)\n",
        "s.pop()\n",
        "print(s)\n",
        "s.pop()\n",
        "s.pop()\n",
        "print(s)\n",
        "s.pop()\n",
        "s.pop()\n",
        "print(s)"
      ],
      "metadata": {
        "colab": {
          "base_uri": "https://localhost:8080/"
        },
        "id": "hcMfA7ydYj75",
        "outputId": "68b15c5f-b9e4-4dc7-96b4-01798d8cec31"
      },
      "execution_count": null,
      "outputs": [
        {
          "output_type": "stream",
          "name": "stdout",
          "text": [
            "deque([10, 20, 30, 'krinshna', (3+4j)])\n",
            "deque([10, 20, 30, 'krinshna'])\n",
            "deque([10, 20])\n",
            "deque([])\n"
          ]
        }
      ]
    },
    {
      "cell_type": "code",
      "source": [
        "#queue\n",
        "size=int(input(\"enter the queue size:\"))\n",
        "q=[]\n",
        "top=-1\n",
        "while(True):\n",
        "  print(\"1.enqeue,2.dequeue,3.display,4.exit\")\n",
        "  opt=int(input(\"enter the option:\"))\n",
        "  if(opt==1):\n",
        "    if(top<size-1):\n",
        "      top=top+1\n",
        "      ele=int(input(\"enter the ele:\"))\n",
        "      q.append(ele)\n",
        "    else:\n",
        "      print(\"queue is full\")\n",
        "  elif(opt==2):\n",
        "    if(top==-1):\n",
        "      print(\"queue is empty\")\n",
        "    else:\n",
        "      print(\"the deleted ele is:\",q.pop(0))\n",
        "      top=top-1\n",
        "  elif(opt==3):\n",
        "    print(q)\n",
        "  elif(opt==4):\n",
        "    break"
      ],
      "metadata": {
        "colab": {
          "base_uri": "https://localhost:8080/"
        },
        "id": "3kBOKGuYgkFz",
        "outputId": "74225d68-251e-4fa4-fab6-c33ecd7055cb"
      },
      "execution_count": null,
      "outputs": [
        {
          "name": "stdout",
          "output_type": "stream",
          "text": [
            "enter the queue size:4\n",
            "1.enqeue,2.dequeue,3.display,4.exit\n",
            "enter the option:1\n",
            "enter the ele:22\n",
            "1.enqeue,2.dequeue,3.display,4.exit\n",
            "enter the option:1\n",
            "enter the ele:33\n",
            "1.enqeue,2.dequeue,3.display,4.exit\n",
            "enter the option:1\n",
            "enter the ele:44\n",
            "1.enqeue,2.dequeue,3.display,4.exit\n",
            "enter the option:1\n",
            "enter the ele:55\n",
            "1.enqeue,2.dequeue,3.display,4.exit\n",
            "enter the option:1\n",
            "enter the option:66\n",
            "queue is full\n",
            "1.enqeue,2.dequeue,3.display,4.exit\n",
            "1.enqeue,2.dequeue,3.display,4.exit\n",
            "enter the option:2\n",
            "the deleted ele is: 22\n",
            "1.enqeue,2.dequeue,3.display,4.exit\n",
            "enter the option:3\n",
            "[33, 44, 55]\n",
            "1.enqeue,2.dequeue,3.display,4.exit\n",
            "enter the option:4\n"
          ]
        }
      ]
    },
    {
      "cell_type": "code",
      "source": [
        "from collections import deque\n",
        "q=deque()\n",
        "q.append(10)\n",
        "q.append(12.5)\n",
        "q.append(3+4j)\n",
        "q.append(True)\n",
        "print(q)\n",
        "q.popleft()\n",
        "print(q)"
      ],
      "metadata": {
        "colab": {
          "base_uri": "https://localhost:8080/"
        },
        "id": "S7fbUJSlja-T",
        "outputId": "f6f40997-56f8-4104-e199-a4a1dcfe6371"
      },
      "execution_count": null,
      "outputs": [
        {
          "output_type": "stream",
          "name": "stdout",
          "text": [
            "deque([10, 12.5, (3+4j), True])\n",
            "deque([12.5, (3+4j), True])\n"
          ]
        }
      ]
    },
    {
      "cell_type": "code",
      "source": [
        "#compressed form less than org str\n",
        "os=input(\"enter a str:\")\n",
        "cs=''\n",
        "s=set(os)\n",
        "l=list(s)\n",
        "l.sort()\n",
        "print(l)\n",
        "for p in l:\n",
        "  c=os.count(p)\n",
        "  cs=cs+p+str(c)\n",
        "print(\"compressed str:\",cs)\n",
        "if(len(os)>len(cs)):\n",
        "  print(\"yes\")\n",
        "else:\n",
        "  print(\"no\")"
      ],
      "metadata": {
        "colab": {
          "base_uri": "https://localhost:8080/"
        },
        "id": "b9tvfeVAnU4Y",
        "outputId": "863b37fa-f58e-4eaa-df83-999ea3cdfcc3"
      },
      "execution_count": null,
      "outputs": [
        {
          "output_type": "stream",
          "name": "stdout",
          "text": [
            "enter a str:aabbcde\n",
            "['a', 'b', 'c', 'd', 'e']\n",
            "compressed str: a2b2c1d1e1\n",
            "no\n"
          ]
        }
      ]
    },
    {
      "cell_type": "code",
      "source": [
        "#no.of repeated alphabet more than 1 time\n",
        "os=input(\"enter a str:\")\n",
        "cs=''\n",
        "s=set(os)\n",
        "l=list(s)\n",
        "l.sort()\n",
        "for p in l:\n",
        "  c=os.count(p)\n",
        "  if(c>1):\n",
        "   cs=cs+p+\"-\"+ str(c)\n",
        "print(\"compressed\",cs)\n",
        "\n"
      ],
      "metadata": {
        "colab": {
          "base_uri": "https://localhost:8080/"
        },
        "id": "Li_CwEkRqQ-z",
        "outputId": "f520017c-b82d-4903-9356-b1c2107dbe0e"
      },
      "execution_count": null,
      "outputs": [
        {
          "output_type": "stream",
          "name": "stdout",
          "text": [
            "enter a straaabbcde\n",
            "compressed a-3b-2\n"
          ]
        }
      ]
    },
    {
      "cell_type": "code",
      "source": [
        "#linked list\n",
        "class Node:\n",
        "  def __init__(self,data):\n",
        "    self.data=data\n",
        "    self.next=None\n",
        "class slist:\n",
        "  def __init__(self):\n",
        "    self.head=None\n",
        "  def display(self):\n",
        "      temp=self.head\n",
        "      if(self.head is None):\n",
        "        print(\"single linked list is empty:\")\n",
        "      else:\n",
        "        while(temp):\n",
        "          print(temp.data,end=\"-->\")\n",
        "          temp=temp.next\n",
        "n1=Node(10)\n",
        "s1=slist()\n",
        "s1.head=n1\n",
        "n2=Node(20)\n",
        "n1.next=n2\n",
        "n3=Node(30)\n",
        "n2.next=n3\n",
        "n4=Node(40)\n",
        "n3.next=n4\n",
        "s1.display()"
      ],
      "metadata": {
        "id": "JhfIliZFwS51",
        "colab": {
          "base_uri": "https://localhost:8080/"
        },
        "outputId": "5906df06-5d90-41b6-b232-917aa1d36e83"
      },
      "execution_count": null,
      "outputs": [
        {
          "output_type": "stream",
          "name": "stdout",
          "text": [
            "10-->20-->30-->40-->"
          ]
        }
      ]
    },
    {
      "cell_type": "code",
      "source": [
        "#reverse list\n",
        "#linked list\n",
        "class Node:\n",
        "  def __init__(self,data):\n",
        "    self.data=data\n",
        "    self.next=None\n",
        "class slist:\n",
        "  def __init__(self):\n",
        "    self.head=None\n",
        "  def rdisplay(self):\n",
        "    r=[]\n",
        "    temp=self.head\n",
        "    if(self.head is None):\n",
        "      print(\"single linked list is empty:\")\n",
        "    else:\n",
        "      while(temp):\n",
        "        r.append(temp.data)\n",
        "        temp=temp.next\n",
        "    for p in range(len(r)-1,-1,-1):\n",
        "      print(r[p],end=\"--->\")\n",
        "n1=Node(10)\n",
        "s1=slist()\n",
        "s1.head=n1\n",
        "n2=Node(20)\n",
        "n1.next=n2\n",
        "n3=Node(30)\n",
        "n2.next=n3\n",
        "n4=Node(40)\n",
        "n3.next=n4\n",
        "s1.rdisplay()\n",
        "print()\n"
      ],
      "metadata": {
        "colab": {
          "base_uri": "https://localhost:8080/"
        },
        "id": "Tht-Rak6Q2DJ",
        "outputId": "1a9d5e3a-c455-427c-b9e9-e8428464f8db"
      },
      "execution_count": null,
      "outputs": [
        {
          "output_type": "stream",
          "name": "stdout",
          "text": [
            "40--->30--->20--->10--->\n"
          ]
        }
      ]
    },
    {
      "cell_type": "code",
      "source": [
        "#counting special char\n",
        "s=input(\"enter the str\")\n",
        "sc=0\n",
        "for p in s:\n",
        "    if (p.isalpha()):\n",
        "        continue\n",
        "    elif (p.isdigit()):\n",
        "        continue\n",
        "    else:\n",
        "        sc=sc+1\n",
        "print(sc)\n",
        "\n"
      ],
      "metadata": {
        "id": "0anGCzk9VRUH",
        "colab": {
          "base_uri": "https://localhost:8080/"
        },
        "outputId": "33c83cff-8880-4c7f-9f3e-689579e54f17"
      },
      "execution_count": null,
      "outputs": [
        {
          "output_type": "stream",
          "name": "stdout",
          "text": [
            "enter the strabc@#$%\n",
            "4\n"
          ]
        }
      ]
    },
    {
      "cell_type": "code",
      "source": [
        "#double linked list\n",
        "class Node:\n",
        "  def __init__(self,data):\n",
        "    self.data=data\n",
        "    self.prev=None\n",
        "    self.next=None\n",
        "class dlist:\n",
        "  def __init__(self):\n",
        "    self.head=None\n",
        "    self.tail=None\n",
        "  def display(self):\n",
        "      temp=self.head\n",
        "      if(self.head is None):\n",
        "        print(\"double linked list is empty:\")\n",
        "      else:\n",
        "        while(temp):\n",
        "          print(temp.data,end=\"-->\")\n",
        "          temp=temp.next\n",
        "n1=Node(10)\n",
        "d1=dlist()\n",
        "d1.head=n1\n",
        "n2=Node(20)\n",
        "n1.next=n2\n",
        "n2.prev=n1\n",
        "n3=Node(30)\n",
        "n2.next=n3\n",
        "n3.prev=n2\n",
        "n4=Node(40)\n",
        "n3.next=n4\n",
        "n4.prev=n3\n",
        "d1.display()"
      ],
      "metadata": {
        "colab": {
          "base_uri": "https://localhost:8080/"
        },
        "id": "JaDviULTirOH",
        "outputId": "10c837be-3c68-4a50-dd17-487860e31793"
      },
      "execution_count": null,
      "outputs": [
        {
          "output_type": "stream",
          "name": "stdout",
          "text": [
            "10-->20-->30-->40-->"
          ]
        }
      ]
    },
    {
      "cell_type": "code",
      "source": [
        "#double linked  list reverse\n",
        "class Node:\n",
        "  def __init__(self,data):\n",
        "    self.data=data\n",
        "    self.prev=None\n",
        "    self.next=None\n",
        "class dlist:\n",
        "  def __init__(self):\n",
        "    self.head=None\n",
        "    self.tail=None\n",
        "  def display(self):\n",
        "      temp=self.head\n",
        "      if(self.head is None):\n",
        "        print(\"double linked list is empty:\")\n",
        "      else:\n",
        "        while(temp):\n",
        "          print(temp.data,end=\"-->\")\n",
        "          temp=temp.next\n",
        "  def rdisplay(self):\n",
        "      temp=self.tail\n",
        "      if(self.tail is None):\n",
        "        print(\"double linked list is empty:\")\n",
        "      else:\n",
        "        while(temp):\n",
        "          print(temp.data,end=\"-->\")\n",
        "          temp=temp.prev\n",
        "n1=Node(10)\n",
        "d1=dlist()\n",
        "d1.head=n1\n",
        "n2=Node(20)\n",
        "n1.next=n2\n",
        "n2.prev=n1\n",
        "n3=Node(30)\n",
        "n2.next=n3\n",
        "n3.prev=n2\n",
        "n4=Node(40)\n",
        "n3.next=n4\n",
        "n4.prev=n3\n",
        "d1.tail=n4\n",
        "d1.display()\n",
        "print(\"\")\n",
        "d1.rdisplay()"
      ],
      "metadata": {
        "id": "hIutgmWyl27n",
        "colab": {
          "base_uri": "https://localhost:8080/"
        },
        "outputId": "90f4fb80-40c9-446a-9951-ec224ce60e7a"
      },
      "execution_count": null,
      "outputs": [
        {
          "output_type": "stream",
          "name": "stdout",
          "text": [
            "10-->20-->30-->40-->\n",
            "40-->30-->20-->10-->"
          ]
        }
      ]
    },
    {
      "cell_type": "code",
      "source": [
        "#double linked list adding node in begining\n",
        "class Node:\n",
        "  def __init__(self,data):\n",
        "    self.data=data\n",
        "    self.prev=None\n",
        "    self.next=None\n",
        "class dlist:\n",
        "  def __init__(self):\n",
        "    self.head=None\n",
        "    self.tail=None\n",
        "  def node_beg(self,data):\n",
        "    nb=Node(data)\n",
        "    nb.next=self.head\n",
        "    self.head.prev=nb\n",
        "    self.head=nb\n",
        "    nb.prev=None\n",
        "  def display(self):\n",
        "      temp=self.head\n",
        "      if(self.head is None):\n",
        "        print(\"double linked list is empty:\")\n",
        "      else:\n",
        "        while(temp):\n",
        "          print(temp.data,end=\"-->\")\n",
        "          temp=temp.next\n",
        "n1=Node(10)\n",
        "d1=dlist()\n",
        "d1.head=n1\n",
        "n2=Node(20)\n",
        "n1.next=n2\n",
        "n2.prev=n1\n",
        "n3=Node(30)\n",
        "n2.next=n3\n",
        "n3.prev=n2\n",
        "n4=Node(40)\n",
        "n3.next=n4\n",
        "n4.prev=n3\n",
        "d1.node_beg(5)\n",
        "d1.display()"
      ],
      "metadata": {
        "colab": {
          "base_uri": "https://localhost:8080/"
        },
        "id": "kpzlFr1vvPSB",
        "outputId": "b2271ad3-408b-4f96-8967-aaaecd901f61"
      },
      "execution_count": null,
      "outputs": [
        {
          "output_type": "stream",
          "name": "stdout",
          "text": [
            "5-->10-->20-->30-->40-->"
          ]
        }
      ]
    },
    {
      "cell_type": "code",
      "source": [
        "#double linked list adding node at last\n",
        "class Node:\n",
        "  def __init__(self,data):\n",
        "    self.data=data\n",
        "    self.prev=None\n",
        "    self.next=None\n",
        "class dlist:\n",
        "  def __init__(self):\n",
        "    self.head=None\n",
        "    self.tail=None\n",
        "  def node_last(self,data):\n",
        "    nl=Node(data)\n",
        "    temp=self.head\n",
        "    while(temp.next):\n",
        "      temp=temp.next\n",
        "    temp.next=nl\n",
        "    nl.prev=temp\n",
        "\n",
        "  def display(self):\n",
        "      temp=self.head\n",
        "      if(self.head is None):\n",
        "        print(\"double linked list is empty:\")\n",
        "      else:\n",
        "        while(temp):\n",
        "          print(temp.data,end=\"-->\")\n",
        "          temp=temp.next\n",
        "n1=Node(10)\n",
        "d1=dlist()\n",
        "d1.head=n1\n",
        "n2=Node(20)\n",
        "n1.next=n2\n",
        "n2.prev=n1\n",
        "n3=Node(30)\n",
        "n2.next=n3\n",
        "n3.prev=n2\n",
        "n4=Node(40)\n",
        "n3.next=n4\n",
        "n4.prev=n3\n",
        "d1.node_last(88)\n",
        "d1.display()"
      ],
      "metadata": {
        "colab": {
          "base_uri": "https://localhost:8080/"
        },
        "id": "cBKEC7Nl0MkO",
        "outputId": "29a9f5fc-f2a2-4991-e283-d346d3ac94e9"
      },
      "execution_count": null,
      "outputs": [
        {
          "output_type": "stream",
          "name": "stdout",
          "text": [
            "10-->20-->30-->40-->88-->"
          ]
        }
      ]
    },
    {
      "cell_type": "code",
      "source": [
        "#double linked list adding node at specfic pos\n",
        "class Node:\n",
        "  def __init__(self,data):\n",
        "    self.data=data\n",
        "    self.prev=None\n",
        "    self.next=None\n",
        "class dlist:\n",
        "  def __init__(self):\n",
        "    self.head=None\n",
        "    self.tail=None\n",
        "  def node_pos(self,pos,data):\n",
        "    np=Node(data)\n",
        "    temp=self.head\n",
        "    for p in range(1,pos-1):\n",
        "      temp=temp.next\n",
        "    np.next=temp.next\n",
        "    np.prev=temp\n",
        "    temp.next=np\n",
        "    temp.next.prev=np\n",
        "\n",
        "  def display(self):\n",
        "      temp=self.head\n",
        "      if(self.head is None):\n",
        "        print(\"double linked list is empty:\")\n",
        "      else:\n",
        "        while(temp):\n",
        "          print(temp.data,end=\"-->\")\n",
        "          temp=temp.next\n",
        "n1=Node(10)\n",
        "d1=dlist()\n",
        "d1.head=n1\n",
        "n2=Node(20)\n",
        "n1.next=n2\n",
        "n2.prev=n1\n",
        "n3=Node(30)\n",
        "n2.next=n3\n",
        "n3.prev=n2\n",
        "n4=Node(40)\n",
        "n3.next=n4\n",
        "n4.prev=n3\n",
        "d1.node_pos(3,25)\n",
        "d1.display()"
      ],
      "metadata": {
        "id": "MxuaOn3-1nq1",
        "colab": {
          "base_uri": "https://localhost:8080/"
        },
        "outputId": "a9aa3d2c-45e1-4593-f9ac-0bef6929cfa2"
      },
      "execution_count": null,
      "outputs": [
        {
          "output_type": "stream",
          "name": "stdout",
          "text": [
            "10-->20-->25-->30-->40-->"
          ]
        }
      ]
    },
    {
      "cell_type": "code",
      "source": [
        "#double linked list deleting node at beg and last\n",
        "class Node:\n",
        "  def __init__(self,data):\n",
        "    self.data=data\n",
        "    self.prev=None\n",
        "    self.next=None\n",
        "class dlist:\n",
        "  def __init__(self):\n",
        "    self.head=None\n",
        "    self.tail=None\n",
        "  def del_beg(self):      #deletion at first\n",
        "    temp=self.head\n",
        "    self.head=temp.next\n",
        "    self.head.prev=None\n",
        "  def del_last(self):     #deltion at last\n",
        "    curr=self.head\n",
        "    temp=self.head.next\n",
        "    while(temp.next):\n",
        "      curr=curr.next\n",
        "      temp=temp.next\n",
        "    temp.prev=None\n",
        "    curr.next=None\n",
        "  def del_pos(self,pos):  #deltion at spec pos\n",
        "    curr=self.head\n",
        "    temp=self.head.next\n",
        "    for p in range(1,pos-1):\n",
        "      curr=curr.next\n",
        "      temp=temp.next\n",
        "    curr.next=temp.next\n",
        "    temp.next.prev=curr\n",
        "    temp.prev=None\n",
        "    temp.next=None\n",
        "  def display(self):\n",
        "      temp=self.head\n",
        "      if(self.head is None):\n",
        "        print(\"double linked list is empty:\")\n",
        "      else:\n",
        "        while(temp):\n",
        "          print(temp.data,end=\"-->\")\n",
        "          temp=temp.next\n",
        "n1=Node(10)\n",
        "d1=dlist()\n",
        "d1.head=n1\n",
        "n2=Node(20)\n",
        "n1.next=n2\n",
        "n2.prev=n1\n",
        "n3=Node(30)\n",
        "n2.next=n3\n",
        "n3.prev=n2\n",
        "n4=Node(40)\n",
        "n3.next=n4\n",
        "n4.prev=n3\n",
        "#d1.del_beg()\n",
        "#1.del_last()\n",
        "d1.del_pos(3)\n",
        "d1.display()"
      ],
      "metadata": {
        "colab": {
          "base_uri": "https://localhost:8080/"
        },
        "id": "p3eRsuwke3IX",
        "outputId": "4c324ac0-7210-4e75-f153-3ac68ccd961d"
      },
      "execution_count": null,
      "outputs": [
        {
          "output_type": "stream",
          "name": "stdout",
          "text": [
            "10-->20-->40-->"
          ]
        }
      ]
    },
    {
      "cell_type": "code",
      "source": [],
      "metadata": {
        "id": "0z3Cf5u5f0qO"
      },
      "execution_count": null,
      "outputs": []
    }
  ]
}
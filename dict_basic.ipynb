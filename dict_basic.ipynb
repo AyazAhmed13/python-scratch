{
  "cells": [
    {
      "cell_type": "code",
      "source": [
        "#identify the words repeated more than or equal to n\n",
        "s=input(\"enter str:\")\n",
        "r=s.split()\n",
        "c=int(input(\"enter count:\"))\n",
        "print(r)\n",
        "l=[]\n",
        "d={p:r.count(p) for p in r}\n",
        "print(d)\n",
        "for p,q in d.items():\n",
        "  if(q>=c):\n",
        "    l.append(p)\n",
        "print(l)"
      ],
      "metadata": {
        "colab": {
          "base_uri": "https://localhost:8080/"
        },
        "id": "yHLsMWtqz5S_",
        "outputId": "70487455-7037-4fe2-be8e-d1d3eb725762"
      },
      "execution_count": null,
      "outputs": [
        {
          "output_type": "stream",
          "name": "stdout",
          "text": [
            "enter str:cat bat cat mat cat cat mat\n",
            "enter count:4\n",
            "['cat', 'bat', 'cat', 'mat', 'cat', 'cat', 'mat']\n",
            "{'cat': 4, 'bat': 1, 'mat': 2}\n",
            "['cat']\n"
          ]
        }
      ]
    },
    {
      "cell_type": "code",
      "source": [
        "# if both keys and values are same in str print the max\n",
        "s=int(input(\" enter no.of values\"))\n",
        "r=list(map(int,input(\"enter values\").split(\" \"))) [:s]\n",
        "print(r)\n",
        "d={p:r.count(p) for p in r}\n",
        "l=[]\n",
        "for p,q in d.items():\n",
        "  if(p==q):\n",
        "    l.append(p)\n",
        "if(len(l)>0):\n",
        "  print(max(l))\n",
        "else:\n",
        "  print(-1)"
      ],
      "metadata": {
        "colab": {
          "base_uri": "https://localhost:8080/"
        },
        "id": "T_vXvM6b3Wgf",
        "outputId": "b3be2f4f-0aac-4a3d-ece2-ab513de5a8a0"
      },
      "execution_count": null,
      "outputs": [
        {
          "output_type": "stream",
          "name": "stdout",
          "text": [
            " enter no.of values6\n",
            "enter values1 2 2 3 3 3\n",
            "[1, 2, 2, 3, 3, 3]\n",
            "3\n"
          ]
        }
      ]
    },
    {
      "cell_type": "code",
      "source": [
        "#count of the element is 1 print the no.of elements that are repeated once\n",
        "s=input(\"enter str:\")\n",
        "d={p:s.count(p) for p in s}\n",
        "print(d)\n",
        "c=0\n",
        "for p,q in d.items():\n",
        "  if(q==1):\n",
        "    c=c+1\n",
        "print(c)"
      ],
      "metadata": {
        "colab": {
          "base_uri": "https://localhost:8080/"
        },
        "id": "nUNfamzz8jvP",
        "outputId": "45cba1fe-be9c-4b20-a556-7e8f8a4214de"
      },
      "execution_count": null,
      "outputs": [
        {
          "output_type": "stream",
          "name": "stdout",
          "text": [
            "enter str:asfddaagh\n",
            "{'a': 3, 's': 1, 'f': 1, 'd': 2, 'g': 1, 'h': 1}\n",
            "4\n"
          ]
        }
      ]
    },
    {
      "cell_type": "code",
      "source": [
        "#dict methods\n",
        "d={'a':10,'b':20,'c':30,'d':40}\n"
      ],
      "metadata": {
        "id": "718oaGtu-tpP"
      },
      "execution_count": null,
      "outputs": []
    },
    {
      "cell_type": "code",
      "source": [
        "d\n"
      ],
      "metadata": {
        "colab": {
          "base_uri": "https://localhost:8080/"
        },
        "id": "Lm122v40CYHf",
        "outputId": "35fffdf5-207e-42c8-e906-425d67de567b"
      },
      "execution_count": null,
      "outputs": [
        {
          "output_type": "execute_result",
          "data": {
            "text/plain": [
              "{'a': 10, 'b': 20, 'c': 30, 'd': 40}"
            ]
          },
          "metadata": {},
          "execution_count": 10
        }
      ]
    },
    {
      "cell_type": "code",
      "source": [
        "d.update({'e':60})\n",
        "d"
      ],
      "metadata": {
        "colab": {
          "base_uri": "https://localhost:8080/"
        },
        "id": "Wg9vXKrACZP_",
        "outputId": "0487741e-89ed-475d-e2ad-e28161db00dc"
      },
      "execution_count": null,
      "outputs": [
        {
          "output_type": "execute_result",
          "data": {
            "text/plain": [
              "{'a': 10, 'b': 20, 'c': 30, 'd': 40, 'e': 60}"
            ]
          },
          "metadata": {},
          "execution_count": 12
        }
      ]
    },
    {
      "cell_type": "code",
      "source": [
        "d.update({'f':70,'g':90})\n",
        "d"
      ],
      "metadata": {
        "colab": {
          "base_uri": "https://localhost:8080/"
        },
        "id": "vKP_DbV-CgoH",
        "outputId": "12ee822b-106d-467c-b32a-f8b27e5768e7"
      },
      "execution_count": null,
      "outputs": [
        {
          "output_type": "execute_result",
          "data": {
            "text/plain": [
              "{'a': 10, 'b': 20, 'c': 30, 'd': 40, 'e': 60, 'f': 70, 'g': 90}"
            ]
          },
          "metadata": {},
          "execution_count": 13
        }
      ]
    },
    {
      "cell_type": "code",
      "source": [
        "y=d.copy()"
      ],
      "metadata": {
        "id": "ZjSegmoVCrOn"
      },
      "execution_count": null,
      "outputs": []
    },
    {
      "cell_type": "code",
      "source": [
        "y"
      ],
      "metadata": {
        "colab": {
          "base_uri": "https://localhost:8080/"
        },
        "id": "FTaXrGSjCuN2",
        "outputId": "7873afc6-68fa-457d-c414-d5a474165e2d"
      },
      "execution_count": null,
      "outputs": [
        {
          "output_type": "execute_result",
          "data": {
            "text/plain": [
              "{'a': 10, 'b': 20, 'c': 30, 'd': 40, 'e': 60, 'f': 70, 'g': 90}"
            ]
          },
          "metadata": {},
          "execution_count": 15
        }
      ]
    },
    {
      "cell_type": "code",
      "source": [
        "d.pop('f')"
      ],
      "metadata": {
        "colab": {
          "base_uri": "https://localhost:8080/"
        },
        "id": "Jc2zpkr3CvKG",
        "outputId": "7335dfd6-6cf0-4680-a9bd-ed4eb902fc51"
      },
      "execution_count": null,
      "outputs": [
        {
          "output_type": "execute_result",
          "data": {
            "text/plain": [
              "70"
            ]
          },
          "metadata": {},
          "execution_count": 16
        }
      ]
    },
    {
      "cell_type": "code",
      "source": [
        "d"
      ],
      "metadata": {
        "colab": {
          "base_uri": "https://localhost:8080/"
        },
        "id": "DkJp_4ZNC1xe",
        "outputId": "6d61cab8-0864-4bd8-87ae-517be314b430"
      },
      "execution_count": null,
      "outputs": [
        {
          "output_type": "execute_result",
          "data": {
            "text/plain": [
              "{'a': 10, 'b': 20, 'c': 30, 'd': 40, 'e': 60, 'g': 90}"
            ]
          },
          "metadata": {},
          "execution_count": 17
        }
      ]
    },
    {
      "cell_type": "code",
      "source": [
        "d.popitem()\n",
        "d"
      ],
      "metadata": {
        "colab": {
          "base_uri": "https://localhost:8080/"
        },
        "id": "M2c3KX9tC2m_",
        "outputId": "41795788-bd90-4343-cdd7-8cae4ab42bcc"
      },
      "execution_count": null,
      "outputs": [
        {
          "output_type": "execute_result",
          "data": {
            "text/plain": [
              "{'a': 10, 'b': 20, 'c': 30, 'd': 40, 'e': 60}"
            ]
          },
          "metadata": {},
          "execution_count": 18
        }
      ]
    },
    {
      "cell_type": "code",
      "source": [
        "del d['c']"
      ],
      "metadata": {
        "id": "YTtKvwwTC66P"
      },
      "execution_count": null,
      "outputs": []
    },
    {
      "cell_type": "code",
      "source": [
        "d"
      ],
      "metadata": {
        "colab": {
          "base_uri": "https://localhost:8080/"
        },
        "id": "HWHtoQmbDA-P",
        "outputId": "4bb83022-6509-4a54-b3a4-115802cbf07a"
      },
      "execution_count": null,
      "outputs": [
        {
          "output_type": "execute_result",
          "data": {
            "text/plain": [
              "{'a': 10, 'b': 20, 'd': 40, 'e': 60}"
            ]
          },
          "metadata": {},
          "execution_count": 20
        }
      ]
    },
    {
      "cell_type": "code",
      "source": [
        "d.clear()\n",
        "d"
      ],
      "metadata": {
        "colab": {
          "base_uri": "https://localhost:8080/"
        },
        "id": "fPUuXmR7DBj3",
        "outputId": "1a9bc87a-3d6b-4cb5-a5b7-94cc3ade40dd"
      },
      "execution_count": null,
      "outputs": [
        {
          "output_type": "execute_result",
          "data": {
            "text/plain": [
              "{}"
            ]
          },
          "metadata": {},
          "execution_count": 21
        }
      ]
    },
    {
      "cell_type": "code",
      "source": [
        "y"
      ],
      "metadata": {
        "colab": {
          "base_uri": "https://localhost:8080/"
        },
        "id": "y33c0icTDH9m",
        "outputId": "fc5f9be1-2c08-4d46-d7e5-40b5b194e657"
      },
      "execution_count": null,
      "outputs": [
        {
          "output_type": "execute_result",
          "data": {
            "text/plain": [
              "{'a': 10, 'b': 20, 'c': 30, 'd': 40, 'e': 60, 'f': 70, 'g': 90}"
            ]
          },
          "metadata": {},
          "execution_count": 22
        }
      ]
    },
    {
      "cell_type": "code",
      "source": [
        "y.clear()\n",
        "y"
      ],
      "metadata": {
        "colab": {
          "base_uri": "https://localhost:8080/"
        },
        "id": "9400rOC7DI92",
        "outputId": "37a4b7ba-ab53-41f0-be93-8c8caf946399"
      },
      "execution_count": null,
      "outputs": [
        {
          "output_type": "execute_result",
          "data": {
            "text/plain": [
              "{}"
            ]
          },
          "metadata": {},
          "execution_count": 23
        }
      ]
    },
    {
      "cell_type": "code",
      "source": [
        "#dict compreshension\n",
        "d={p:p*p for p in range (1,11)}\n",
        "print(d)"
      ],
      "metadata": {
        "colab": {
          "base_uri": "https://localhost:8080/"
        },
        "id": "tPTZ1zEsE-on",
        "outputId": "1e89f2f0-5f0b-4035-b9c4-c5af7a13c888"
      },
      "execution_count": null,
      "outputs": [
        {
          "output_type": "stream",
          "name": "stdout",
          "text": [
            "{1: 1, 2: 4, 3: 9, 4: 16, 5: 25, 6: 36, 7: 49, 8: 64, 9: 81, 10: 100}\n"
          ]
        }
      ]
    },
    {
      "cell_type": "code",
      "source": [
        "d={p:p*p for p in range (1,11) if (p%2==0)}\n",
        "print(d)"
      ],
      "metadata": {
        "colab": {
          "base_uri": "https://localhost:8080/"
        },
        "id": "t_OoVqcrFNNe",
        "outputId": "0e4b9d72-f3b9-44b1-c076-17d6944a9b26"
      },
      "execution_count": null,
      "outputs": [
        {
          "output_type": "stream",
          "name": "stdout",
          "text": [
            "{2: 4, 4: 16, 6: 36, 8: 64, 10: 100}\n"
          ]
        }
      ]
    },
    {
      "cell_type": "code",
      "source": [
        "d={p:p*p*p for p in range (20,40) if (p%2!=0)}\n",
        "print(d)"
      ],
      "metadata": {
        "colab": {
          "base_uri": "https://localhost:8080/"
        },
        "id": "u_G_ep9UFbkn",
        "outputId": "6e68daf0-f991-4937-d735-f9ff8ef907e1"
      },
      "execution_count": null,
      "outputs": [
        {
          "output_type": "stream",
          "name": "stdout",
          "text": [
            "{21: 9261, 23: 12167, 25: 15625, 27: 19683, 29: 24389, 31: 29791, 33: 35937, 35: 42875, 37: 50653, 39: 59319}\n"
          ]
        }
      ]
    },
    {
      "cell_type": "code",
      "source": [
        "#if vowel is encounter check the next element if consonent update count\n",
        "s=input(\"enter a str:\")\n",
        "v=(\"aeiouAEIOU\")\n",
        "c=0\n",
        "for p in range(0,len(s)-1):\n",
        "  if((s[p] in v)and(s[p+1].isalpha())and(s[p+1]  not in v)):\n",
        "    c=c+1\n",
        "print(c)"
      ],
      "metadata": {
        "colab": {
          "base_uri": "https://localhost:8080/"
        },
        "id": "7J3TmNEUFr0u",
        "outputId": "8d22f9a5-414c-4a78-cdbd-b5221d4e4413"
      },
      "execution_count": null,
      "outputs": [
        {
          "output_type": "stream",
          "name": "stdout",
          "text": [
            "enter a str:liril\n",
            "2\n"
          ]
        }
      ]
    },
    {
      "cell_type": "code",
      "source": [],
      "metadata": {
        "id": "nK7J6xwdKWXv"
      },
      "execution_count": null,
      "outputs": []
    }
  ],
  "metadata": {
    "colab": {
      "provenance": [],
      "authorship_tag": "ABX9TyPCGrMItzzu+4nQ8Bq0rqpA"
    },
    "kernelspec": {
      "display_name": "Python 3",
      "name": "python3"
    },
    "language_info": {
      "name": "python"
    }
  },
  "nbformat": 4,
  "nbformat_minor": 0
}
